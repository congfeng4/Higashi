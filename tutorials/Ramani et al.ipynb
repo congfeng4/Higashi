{
 "cells": [
  {
   "cell_type": "markdown",
   "id": "42fa4383",
   "metadata": {},
   "source": [
    "# Embedding and Imputation on Ramani et al. scHi-C"
   ]
  },
  {
   "cell_type": "markdown",
   "id": "7ccb9310",
   "metadata": {},
   "source": [
    "## Notes\n",
    "\n",
    "This tutorial uses the new API of Higashi (wrapping all functions of Higashi into the Higashi() class).\n",
    "The old API of Higashi will still be supported and maintained).\n",
    "Please check changelog for the current status of migration from the old API to the new API."
   ]
  },
  {
   "cell_type": "markdown",
   "id": "227b85a4",
   "metadata": {},
   "source": [
    "## Preparation\n",
    "\n",
    "### Download input files\n",
    "Download the demo data from the following link (Ramani et al.)\n",
    "https://drive.google.com/drive/folders/1S0KOMAj60MxQP6mgPV1OKjn_J-lVpzKM?usp=sharing\n",
    "\n",
    "The dataset contains 620 cells from the ML1/ML3 library of the Ramani et al. dataset.\n",
    "\n",
    "Change the file path in the corresponding JSON file according to the location of the downloaded files.\n",
    "\n",
    "### Install Higashi\n",
    "\n",
    "1. install pytorch>=1.8.0 with cuda support when available.\n",
    "2. `conda install -c ruochiz higashi`\n",
    "(Although higashi would install pytorch when needed, there is no guarantee that it will install the correct version with cuda support. It is recommended to install pytorch separately before higashi.)"
   ]
  },
  {
   "cell_type": "markdown",
   "id": "6ca128b3",
   "metadata": {},
   "source": [
    "## Start running Higashi¶"
   ]
  },
  {
   "cell_type": "markdown",
   "id": "a09e4d58",
   "metadata": {},
   "source": [
    "### 1. Import package, set the path to the configuration JSON file.¶"
   ]
  },
  {
   "cell_type": "code",
   "id": "1544818a",
   "metadata": {
    "ExecuteTime": {
     "end_time": "2025-09-29T06:46:15.328935Z",
     "start_time": "2025-09-29T06:46:15.320095Z"
    }
   },
   "source": [
    "cd .."
   ],
   "outputs": [
    {
     "name": "stdout",
     "output_type": "stream",
     "text": [
      "/Users/fengcong/Desktop/0825-course/Guided Study/Code/Higashi\n"
     ]
    }
   ],
   "execution_count": 1
  },
  {
   "cell_type": "code",
   "id": "0e5af46e",
   "metadata": {
    "ExecuteTime": {
     "end_time": "2025-09-29T06:46:19.344688Z",
     "start_time": "2025-09-29T06:46:17.166264Z"
    }
   },
   "source": [
    "from higashi.Higashi_wrapper import *\n",
    "config = \"./Data/config_ramani.JSON\"\n",
    "higashi_model = Higashi(config)"
   ],
   "outputs": [],
   "execution_count": 2
  },
  {
   "cell_type": "markdown",
   "id": "e7d5cbf5",
   "metadata": {},
   "source": [
    "### 2. Process data for higashi model"
   ]
  },
  {
   "cell_type": "code",
   "execution_count": null,
   "id": "4070da6f",
   "metadata": {},
   "outputs": [
    {
     "ename": "",
     "evalue": "",
     "output_type": "error",
     "traceback": [
      "\u001B[1;31m在当前单元格或上一个单元格中执行代码时 Kernel 崩溃。\n",
      "\u001B[1;31m请查看单元格中的代码，以确定故障的可能原因。\n",
      "\u001B[1;31m单击<a href='https://aka.ms/vscodeJupyterKernelCrash'>此处</a>了解详细信息。\n",
      "\u001B[1;31m有关更多详细信息，请查看 Jupyter <a href='command:jupyter.viewOutput'>log</a>。"
     ]
    }
   ],
   "source": [
    "# higashi_model.process_data()"
   ]
  },
  {
   "cell_type": "markdown",
   "id": "23d2dab8",
   "metadata": {},
   "source": [
    "### 3. Prep the higashi model for training and imputation & Stage 1 training"
   ]
  },
  {
   "metadata": {
    "ExecuteTime": {
     "end_time": "2025-09-29T06:35:27.081834Z",
     "start_time": "2025-09-29T06:35:27.069098Z"
    }
   },
   "cell_type": "code",
   "source": [
    "def save_model_from_checkpoint():\n",
    "    import os\n",
    "\n",
    "    sd = torch.load(os.path.expanduser(\"./Temp/model/model.chkpt_stage1\"))\n",
    "    higashi_model.higashi_model.load_state_dict(sd['model_link'], strict=False)\n",
    "    torch.save(higashi_model.higashi_model, os.path.expanduser(\"./Temp/model/model.chkpt_stage1_model\"))\n"
   ],
   "id": "1c3e6dae93265961",
   "outputs": [],
   "execution_count": 14
  },
  {
   "cell_type": "code",
   "id": "49960c26",
   "metadata": {
    "ExecuteTime": {
     "end_time": "2025-09-29T06:46:27.366847Z",
     "start_time": "2025-09-29T06:46:23.432362Z"
    }
   },
   "source": [
    "higashi_model.prep_model()\n",
    "# Stage 1 training\n",
    "# higashi_model.train_for_embeddings()"
   ],
   "outputs": [
    {
     "name": "stdout",
     "output_type": "stream",
     "text": [
      "cpu_num 8\n",
      "training on data from: ['chr1', 'chr2', 'chr3', 'chr4', 'chr5', 'chr6', 'chr7', 'chr8', 'chr9', 'chr10', 'chr11', 'chr12', 'chr13', 'chr14', 'chr15', 'chr16', 'chr17', 'chr18', 'chr19', 'chr20', 'chr21', 'chr22', 'chrX']\n",
      "total_sparsity_cell 0.025731658257764963\n",
      "no contractive loss\n",
      "batch_size 256\n",
      "Node type num [620 250 244 199 192 181 172 160 147 142 136 136 134 116 108 103  91  82\n",
      "  79  60  64  49  52 156] [ 620  870 1114 1313 1505 1686 1858 2018 2165 2307 2443 2579 2713 2829\n",
      " 2937 3040 3131 3213 3292 3352 3416 3465 3517 3673]\n",
      "start making attribute\n"
     ]
    },
    {
     "data": {
      "text/plain": [
       "  0%|          | 0/300 [00:00<?, ?it/s]"
      ],
      "application/vnd.jupyter.widget-view+json": {
       "version_major": 2,
       "version_minor": 0,
       "model_id": "10c11f86dab6499a98f893a614e617ca"
      }
     },
     "metadata": {},
     "output_type": "display_data",
     "jetTransient": {
      "display_id": null
     }
    },
    {
     "name": "stdout",
     "output_type": "stream",
     "text": [
      "loss 0.6227015852928162 loss best 0.6080297827720642 epochs 122\n",
      "\n",
      "initializing data generator\n"
     ]
    },
    {
     "data": {
      "text/plain": [
       "  0%|          | 0/23 [00:00<?, ?it/s]"
      ],
      "application/vnd.jupyter.widget-view+json": {
       "version_major": 2,
       "version_minor": 0,
       "model_id": "7a82cee86ae341d0b68d93413bc28b94"
      }
     },
     "metadata": {},
     "output_type": "display_data",
     "jetTransient": {
      "display_id": null
     }
    },
    {
     "name": "stdout",
     "output_type": "stream",
     "text": [
      "initializing data generator\n"
     ]
    },
    {
     "data": {
      "text/plain": [
       "  0%|          | 0/23 [00:00<?, ?it/s]"
      ],
      "application/vnd.jupyter.widget-view+json": {
       "version_major": 2,
       "version_minor": 0,
       "model_id": "c0f06b6b0c2b4c9a8bb939f78b6a86bb"
      }
     },
     "metadata": {},
     "output_type": "display_data",
     "jetTransient": {
      "display_id": null
     }
    }
   ],
   "execution_count": 3
  },
  {
   "metadata": {
    "ExecuteTime": {
     "end_time": "2025-09-29T06:35:32.806445Z",
     "start_time": "2025-09-29T06:35:32.726766Z"
    }
   },
   "cell_type": "code",
   "source": "# save_model_from_checkpoint()",
   "id": "ef0b262835994faf",
   "outputs": [],
   "execution_count": 15
  },
  {
   "metadata": {
    "ExecuteTime": {
     "end_time": "2025-09-29T06:46:30.303608Z",
     "start_time": "2025-09-29T06:46:29.523551Z"
    }
   },
   "cell_type": "code",
   "source": [
    "higashi_model.train_for_phasing()\n",
    "higashi_model.phase()"
   ],
   "id": "154349cbf69d7181",
   "outputs": [
    {
     "data": {
      "text/plain": [
       "  0%|          | 0/23 [00:00<?, ?it/s]"
      ],
      "application/vnd.jupyter.widget-view+json": {
       "version_major": 2,
       "version_minor": 0,
       "model_id": "6fbc472390814c2ab8a6f54cb1255f98"
      }
     },
     "metadata": {},
     "output_type": "display_data",
     "jetTransient": {
      "display_id": null
     }
    },
    {
     "data": {
      "text/plain": [
       "  0%|          | 0/23 [00:00<?, ?it/s]"
      ],
      "application/vnd.jupyter.widget-view+json": {
       "version_major": 2,
       "version_minor": 0,
       "model_id": "9df898500b934dad80914f25a67c72b6"
      }
     },
     "metadata": {},
     "output_type": "display_data",
     "jetTransient": {
      "display_id": null
     }
    },
    {
     "name": "stdout",
     "output_type": "stream",
     "text": [
      "[ Epoch 0 of 30 ]\n"
     ]
    },
    {
     "data": {
      "text/plain": [
       " - (Training) :   0%|          | 0/1000 [00:00<?, ?it/s]"
      ],
      "application/vnd.jupyter.widget-view+json": {
       "version_major": 2,
       "version_minor": 0,
       "model_id": "50217808e9e049439f10f0faa92fcffb"
      }
     },
     "metadata": {},
     "output_type": "display_data",
     "jetTransient": {
      "display_id": null
     }
    },
    {
     "ename": "TypeError",
     "evalue": "'<=' not supported between instances of 'float' and 'NoneType'",
     "output_type": "error",
     "traceback": [
      "\u001B[31m---------------------------------------------------------------------------\u001B[39m",
      "\u001B[31mTypeError\u001B[39m                                 Traceback (most recent call last)",
      "\u001B[36mCell\u001B[39m\u001B[36m \u001B[39m\u001B[32mIn[4]\u001B[39m\u001B[32m, line 1\u001B[39m\n\u001B[32m----> \u001B[39m\u001B[32m1\u001B[39m \u001B[43mhigashi_model\u001B[49m\u001B[43m.\u001B[49m\u001B[43mtrain_for_phasing\u001B[49m\u001B[43m(\u001B[49m\u001B[43m)\u001B[49m\n\u001B[32m      2\u001B[39m higashi_model.phase()\n",
      "\u001B[36mFile \u001B[39m\u001B[32m~/Desktop/0825-course/Guided Study/Code/Higashi/higashi/Higashi_wrapper.py:1477\u001B[39m, in \u001B[36mHigashi.train_for_phasing\u001B[39m\u001B[34m(self)\u001B[39m\n\u001B[32m   1474\u001B[39m optimizer = torch.optim.Adam(\u001B[38;5;28mself\u001B[39m.higashi_model.parameters(), lr=\u001B[32m1e-3\u001B[39m)\n\u001B[32m   1476\u001B[39m \u001B[38;5;66;03m# 训练\u001B[39;00m\n\u001B[32m-> \u001B[39m\u001B[32m1477\u001B[39m \u001B[38;5;28;43mself\u001B[39;49m\u001B[43m.\u001B[49m\u001B[43mtrain\u001B[49m\u001B[43m(\u001B[49m\n\u001B[32m   1478\u001B[39m \u001B[43m    \u001B[49m\u001B[43mtraining_data_generator\u001B[49m\u001B[43m=\u001B[49m\u001B[38;5;28;43mself\u001B[39;49m\u001B[43m.\u001B[49m\u001B[43mtraining_data_generator\u001B[49m\u001B[43m,\u001B[49m\n\u001B[32m   1479\u001B[39m \u001B[43m    \u001B[49m\u001B[43mvalidation_data_generator\u001B[49m\u001B[43m=\u001B[49m\u001B[38;5;28;43mself\u001B[39;49m\u001B[43m.\u001B[49m\u001B[43mvalidation_data_generator\u001B[49m\u001B[43m,\u001B[49m\n\u001B[32m   1480\u001B[39m \u001B[43m    \u001B[49m\u001B[43moptimizer\u001B[49m\u001B[43m=\u001B[49m\u001B[43m[\u001B[49m\u001B[43moptimizer\u001B[49m\u001B[43m]\u001B[49m\u001B[43m,\u001B[49m\n\u001B[32m   1481\u001B[39m \u001B[43m    \u001B[49m\u001B[43mepochs\u001B[49m\u001B[43m=\u001B[49m\u001B[38;5;28;43mself\u001B[39;49m\u001B[43m.\u001B[49m\u001B[43mwith_nbr_epoch\u001B[49m\u001B[43m,\u001B[49m\n\u001B[32m   1482\u001B[39m \u001B[43m    \u001B[49m\u001B[43mload_first\u001B[49m\u001B[43m=\u001B[49m\u001B[38;5;28;43;01mFalse\u001B[39;49;00m\u001B[43m,\u001B[49m\n\u001B[32m   1483\u001B[39m \u001B[43m    \u001B[49m\u001B[43msave_name\u001B[49m\u001B[43m=\u001B[49m\u001B[33;43m\"\u001B[39;49m\u001B[33;43m_phasing\u001B[39;49m\u001B[33;43m\"\u001B[39;49m\u001B[43m,\u001B[49m\n\u001B[32m   1484\u001B[39m \u001B[43m    \u001B[49m\u001B[43msave_embed\u001B[49m\u001B[43m=\u001B[49m\u001B[38;5;28;43;01mFalse\u001B[39;49;00m\n\u001B[32m   1485\u001B[39m \u001B[43m\u001B[49m\u001B[43m)\u001B[49m\n\u001B[32m   1487\u001B[39m \u001B[38;5;66;03m# 保存\u001B[39;00m\n\u001B[32m   1488\u001B[39m torch.save(\u001B[38;5;28mself\u001B[39m.higashi_model, \u001B[38;5;28mself\u001B[39m.save_path + \u001B[33m\"\u001B[39m\u001B[33m_phasing_model\u001B[39m\u001B[33m\"\u001B[39m)\n",
      "\u001B[36mFile \u001B[39m\u001B[32m~/Desktop/0825-course/Guided Study/Code/Higashi/higashi/Higashi_wrapper.py:1142\u001B[39m, in \u001B[36mHigashi.train\u001B[39m\u001B[34m(self, training_data_generator, validation_data_generator, optimizer, epochs, load_first, save_embed, save_name)\u001B[39m\n\u001B[32m   1135\u001B[39m     eval_p_list.append(\n\u001B[32m   1136\u001B[39m         eval_pool.submit(one_thread_generate_neg, edges_part, edges_chrom, edge_weight_part,\n\u001B[32m   1137\u001B[39m                          \u001B[32m1\u001B[39m, \u001B[38;5;28;01mFalse\u001B[39;00m,\n\u001B[32m   1138\u001B[39m                          chroms_in_batch))\n\u001B[32m   1140\u001B[39m start = time.time()\n\u001B[32m-> \u001B[39m\u001B[32m1142\u001B[39m bce_loss, mse_loss, train_accu, auc1, auc2, str1, str2, train_pool, train_p_list = \u001B[38;5;28;43mself\u001B[39;49m\u001B[43m.\u001B[49m\u001B[43mtrain_epoch\u001B[49m\u001B[43m(\u001B[49m\n\u001B[32m   1143\u001B[39m \u001B[43m    \u001B[49m\u001B[43mtraining_data_generator\u001B[49m\u001B[43m,\u001B[49m\u001B[43m \u001B[49m\u001B[43moptimizer\u001B[49m\u001B[43m,\u001B[49m\u001B[43m \u001B[49m\u001B[43mtrain_pool\u001B[49m\u001B[43m,\u001B[49m\u001B[43m \u001B[49m\u001B[43mtrain_p_list\u001B[49m\u001B[43m)\u001B[49m\n\u001B[32m   1144\u001B[39m \u001B[38;5;28mprint\u001B[39m(\u001B[33m'\u001B[39m\u001B[33m- (Train)   bce: \u001B[39m\u001B[38;5;132;01m{bce_loss: 7.4f}\u001B[39;00m\u001B[33m, mse: \u001B[39m\u001B[38;5;132;01m{mse_loss: 7.4f}\u001B[39;00m\u001B[33m, \u001B[39m\u001B[33m'\u001B[39m\n\u001B[32m   1145\u001B[39m       \u001B[33m'\u001B[39m\u001B[33m acc: \u001B[39m\u001B[38;5;132;01m{accu:3.3f}\u001B[39;00m\u001B[33m \u001B[39m\u001B[33m%\u001B[39m\u001B[33m, \u001B[39m\u001B[38;5;132;01m{str1}\u001B[39;00m\u001B[33m: \u001B[39m\u001B[38;5;132;01m{auc1:3.3f}\u001B[39;00m\u001B[33m, \u001B[39m\u001B[38;5;132;01m{str2}\u001B[39;00m\u001B[33m: \u001B[39m\u001B[38;5;132;01m{auc2:3.3f}\u001B[39;00m\u001B[33m, \u001B[39m\u001B[33m'\u001B[39m\n\u001B[32m   1146\u001B[39m       \u001B[33m'\u001B[39m\u001B[33melapse: \u001B[39m\u001B[38;5;132;01m{elapse:3.3f}\u001B[39;00m\u001B[33m s\u001B[39m\u001B[33m'\u001B[39m.format(\n\u001B[32m   (...)\u001B[39m\u001B[32m   1154\u001B[39m     auc2=auc2,\n\u001B[32m   1155\u001B[39m     elapse=(time.time() - start)))\n\u001B[32m   1157\u001B[39m start = time.time()\n",
      "\u001B[36mFile \u001B[39m\u001B[32m~/Desktop/0825-course/Guided Study/Code/Higashi/higashi/Higashi_wrapper.py:944\u001B[39m, in \u001B[36mHigashi.train_epoch\u001B[39m\u001B[34m(self, training_data_generator, optimizer_list, train_pool, train_p_list)\u001B[39m\n\u001B[32m    942\u001B[39m finish_count = \u001B[32m0\u001B[39m\n\u001B[32m    943\u001B[39m \u001B[38;5;28;01mfor\u001B[39;00m p \u001B[38;5;129;01min\u001B[39;00m as_completed(train_p_list):\n\u001B[32m--> \u001B[39m\u001B[32m944\u001B[39m     batch_edge_big, batch_y_big, batch_edge_weight_big, batch_chrom_big, batch_to_neighs_big, chroms_in_batch = \u001B[43mp\u001B[49m\u001B[43m.\u001B[49m\u001B[43mresult\u001B[49m\u001B[43m(\u001B[49m\u001B[43m)\u001B[49m\n\u001B[32m    945\u001B[39m     batch_edge_big = np2tensor_hyper(batch_edge_big, dtype=torch.long)\n\u001B[32m    946\u001B[39m     batch_y_big, batch_edge_weight_big = torch.from_numpy(batch_y_big), torch.from_numpy(batch_edge_weight_big)\n",
      "\u001B[36mFile \u001B[39m\u001B[32m/Library/Frameworks/Python.framework/Versions/3.12/lib/python3.12/concurrent/futures/_base.py:449\u001B[39m, in \u001B[36mFuture.result\u001B[39m\u001B[34m(self, timeout)\u001B[39m\n\u001B[32m    447\u001B[39m     \u001B[38;5;28;01mraise\u001B[39;00m CancelledError()\n\u001B[32m    448\u001B[39m \u001B[38;5;28;01melif\u001B[39;00m \u001B[38;5;28mself\u001B[39m._state == FINISHED:\n\u001B[32m--> \u001B[39m\u001B[32m449\u001B[39m     \u001B[38;5;28;01mreturn\u001B[39;00m \u001B[38;5;28;43mself\u001B[39;49m\u001B[43m.\u001B[49m\u001B[43m__get_result\u001B[49m\u001B[43m(\u001B[49m\u001B[43m)\u001B[49m\n\u001B[32m    451\u001B[39m \u001B[38;5;28mself\u001B[39m._condition.wait(timeout)\n\u001B[32m    453\u001B[39m \u001B[38;5;28;01mif\u001B[39;00m \u001B[38;5;28mself\u001B[39m._state \u001B[38;5;129;01min\u001B[39;00m [CANCELLED, CANCELLED_AND_NOTIFIED]:\n",
      "\u001B[36mFile \u001B[39m\u001B[32m/Library/Frameworks/Python.framework/Versions/3.12/lib/python3.12/concurrent/futures/_base.py:401\u001B[39m, in \u001B[36mFuture.__get_result\u001B[39m\u001B[34m(self)\u001B[39m\n\u001B[32m    399\u001B[39m \u001B[38;5;28;01mif\u001B[39;00m \u001B[38;5;28mself\u001B[39m._exception:\n\u001B[32m    400\u001B[39m     \u001B[38;5;28;01mtry\u001B[39;00m:\n\u001B[32m--> \u001B[39m\u001B[32m401\u001B[39m         \u001B[38;5;28;01mraise\u001B[39;00m \u001B[38;5;28mself\u001B[39m._exception\n\u001B[32m    402\u001B[39m     \u001B[38;5;28;01mfinally\u001B[39;00m:\n\u001B[32m    403\u001B[39m         \u001B[38;5;66;03m# Break a reference cycle with the exception in self._exception\u001B[39;00m\n\u001B[32m    404\u001B[39m         \u001B[38;5;28mself\u001B[39m = \u001B[38;5;28;01mNone\u001B[39;00m\n",
      "\u001B[36mFile \u001B[39m\u001B[32m/Library/Frameworks/Python.framework/Versions/3.12/lib/python3.12/concurrent/futures/thread.py:58\u001B[39m, in \u001B[36m_WorkItem.run\u001B[39m\u001B[34m(self)\u001B[39m\n\u001B[32m     55\u001B[39m     \u001B[38;5;28;01mreturn\u001B[39;00m\n\u001B[32m     57\u001B[39m \u001B[38;5;28;01mtry\u001B[39;00m:\n\u001B[32m---> \u001B[39m\u001B[32m58\u001B[39m     result = \u001B[38;5;28;43mself\u001B[39;49m\u001B[43m.\u001B[49m\u001B[43mfn\u001B[49m\u001B[43m(\u001B[49m\u001B[43m*\u001B[49m\u001B[38;5;28;43mself\u001B[39;49m\u001B[43m.\u001B[49m\u001B[43margs\u001B[49m\u001B[43m,\u001B[49m\u001B[43m \u001B[49m\u001B[43m*\u001B[49m\u001B[43m*\u001B[49m\u001B[38;5;28;43mself\u001B[39;49m\u001B[43m.\u001B[49m\u001B[43mkwargs\u001B[49m\u001B[43m)\u001B[49m\n\u001B[32m     59\u001B[39m \u001B[38;5;28;01mexcept\u001B[39;00m \u001B[38;5;167;01mBaseException\u001B[39;00m \u001B[38;5;28;01mas\u001B[39;00m exc:\n\u001B[32m     60\u001B[39m     \u001B[38;5;28mself\u001B[39m.future.set_exception(exc)\n",
      "\u001B[36mFile \u001B[39m\u001B[32m~/Desktop/0825-course/Guided Study/Code/Higashi/higashi/Higashi_wrapper.py:255\u001B[39m, in \u001B[36mone_thread_generate_neg\u001B[39m\u001B[34m(edges_part, edges_chrom, edge_weight, collect_num, training, chroms_in_batch)\u001B[39m\n\u001B[32m    253\u001B[39m     x = edges_part\n\u001B[32m    254\u001B[39m \u001B[38;5;28;01melse\u001B[39;00m:\n\u001B[32m--> \u001B[39m\u001B[32m255\u001B[39m     neg_list, neg_chrom = \u001B[43mgenerate_negative_cpu\u001B[49m\u001B[43m(\u001B[49m\u001B[43medges_part\u001B[49m\u001B[43m,\u001B[49m\u001B[43m \u001B[49m\u001B[43medges_chrom\u001B[49m\u001B[43m,\u001B[49m\u001B[43m \u001B[49m\u001B[43mneg_num\u001B[49m\u001B[43m,\u001B[49m\u001B[43m \u001B[49m\u001B[43mmax_bin\u001B[49m\u001B[43m,\u001B[49m\u001B[43m \u001B[49m\u001B[38;5;28;43;01mTrue\u001B[39;49;00m\u001B[43m)\u001B[49m\n\u001B[32m    256\u001B[39m     neg_list = np.array(neg_list)[: \u001B[38;5;28mlen\u001B[39m(edges_part) * neg_num, :]\n\u001B[32m    257\u001B[39m     neg_chrom = np.array(neg_chrom)[: \u001B[38;5;28mlen\u001B[39m(edges_part) * neg_num]\n",
      "\u001B[36mFile \u001B[39m\u001B[32m~/Desktop/0825-course/Guided Study/Code/Higashi/higashi/Higashi_wrapper.py:138\u001B[39m, in \u001B[36mgenerate_negative_cpu\u001B[39m\u001B[34m(x, x_chrom, neg_num, max_bin, forward)\u001B[39m\n\u001B[32m    135\u001B[39m     \u001B[38;5;28;01mbreak\u001B[39;00m\n\u001B[32m    137\u001B[39m \u001B[38;5;66;03m# hard mode, Only change one node\u001B[39;00m\n\u001B[32m--> \u001B[39m\u001B[32m138\u001B[39m \u001B[38;5;28;01mif\u001B[39;00m \u001B[43msimple_or_hard_all\u001B[49m\u001B[43m[\u001B[49m\u001B[43mj\u001B[49m\u001B[43m,\u001B[49m\u001B[43m \u001B[49m\u001B[43mi\u001B[49m\u001B[43m]\u001B[49m\u001B[43m \u001B[49m\u001B[43m<\u001B[49m\u001B[43m=\u001B[49m\u001B[43m \u001B[49m\u001B[43mpair_ratio\u001B[49m:\n\u001B[32m    139\u001B[39m     start, end = start_end_dict[\u001B[38;5;28mint\u001B[39m(temp[change])]\n\u001B[32m    141\u001B[39m     \u001B[38;5;66;03m# It's changing the bin\u001B[39;00m\n",
      "\u001B[31mTypeError\u001B[39m: '<=' not supported between instances of 'float' and 'NoneType'"
     ]
    }
   ],
   "execution_count": 4
  },
  {
   "cell_type": "code",
   "execution_count": null,
   "id": "b415ec08",
   "metadata": {},
   "outputs": [],
   "source": [
    "higashi_model.train_for_imputation_nbr_0()\n",
    "higashi_model.impute_no_nbr()"
   ]
  },
  {
   "cell_type": "markdown",
   "id": "ca78a204",
   "metadata": {},
   "source": [
    "### 5. Stage 3 training and imputation with neighbor information"
   ]
  },
  {
   "cell_type": "code",
   "execution_count": null,
   "id": "3b211f9e",
   "metadata": {},
   "outputs": [],
   "source": [
    "higashi_model.train_for_imputation_with_nbr()\n",
    "higashi_model.impute_with_nbr()"
   ]
  },
  {
   "cell_type": "markdown",
   "id": "32faa687",
   "metadata": {},
   "source": [
    "### 5. Visulizing embedding results"
   ]
  },
  {
   "cell_type": "code",
   "execution_count": null,
   "id": "d22cac0a",
   "metadata": {},
   "outputs": [],
   "source": [
    "# Visualize embedding results\n",
    "cell_embeddings = higashi_model.fetch_cell_embeddings()\n",
    "print (cell_embeddings.shape)\n",
    "\n",
    "from umap import UMAP\n",
    "from sklearn.decomposition import PCA\n",
    "import seaborn as sns\n",
    "import matplotlib.pyplot as plt\n",
    "\n",
    "cell_type = higashi_model.label_info['cell type']\n",
    "fig = plt.figure(figsize=(14, 5))\n",
    "ax = plt.subplot(1, 2, 1)\n",
    "vec = PCA(n_components=2).fit_transform(cell_embeddings)\n",
    "sns.scatterplot(x=vec[:, 0], y=vec[:, 1], hue=cell_type, ax=ax, s=6, linewidth=0)\n",
    "handles, labels = ax.get_legend_handles_labels()\n",
    "labels, handles = zip(*sorted(zip(labels, handles), key=lambda t: t[0]))\n",
    "ax.legend(handles=handles, labels=labels, bbox_to_anchor=(1.05, 1), loc=2, borderaxespad=0., ncol=1)\n",
    "ax = plt.subplot(1, 2, 2)\n",
    "vec = UMAP(n_components=2).fit_transform(cell_embeddings)\n",
    "sns.scatterplot(x=vec[:, 0], y=vec[:, 1], hue=cell_type, ax=ax, s=6, linewidth=0)\n",
    "handles, labels = ax.get_legend_handles_labels()\n",
    "labels, handles = zip(*sorted(zip(labels, handles), key=lambda t: t[0]))\n",
    "ax.legend(handles=handles, labels=labels, bbox_to_anchor=(1.05, 1), loc=2, borderaxespad=0., ncol=1)\n",
    "plt.tight_layout()\n",
    "plt.show()\n",
    "\n"
   ]
  },
  {
   "cell_type": "markdown",
   "id": "7f116199",
   "metadata": {},
   "source": [
    "### 6. Visualizing imputation results"
   ]
  },
  {
   "cell_type": "code",
   "execution_count": null,
   "id": "1320110b",
   "metadata": {},
   "outputs": [],
   "source": [
    "count = 0\n",
    "fig = plt.figure(figsize=(6, 2*5))\n",
    "for id_ in np.random.randint(0, 620, 5):\n",
    "    ori, nbr0, nbr5 = higashi_model.fetch_map(\"chr3\", id_)\n",
    "    count += 1\n",
    "    ax = plt.subplot(5, 3, count * 3 - 2)\n",
    "    ax.imshow(ori.toarray(), cmap='Reds', vmin=0.0, vmax=np.quantile(ori.data, 0.6))\n",
    "    ax.set_xticks([], [])\n",
    "    ax.set_yticks([], [])\n",
    "    if count == 1:\n",
    "        ax.set_title(\"raw\")\n",
    "\n",
    "    ax = plt.subplot(5, 3, count * 3 - 1)\n",
    "    ax.imshow(nbr0.toarray(), cmap='Reds', vmin=0.0, vmax=np.quantile(nbr0.data, 0.95))\n",
    "    ax.set_xticks([], [])\n",
    "    ax.set_yticks([], [])\n",
    "    if count == 1:\n",
    "        ax.set_title(\"higashi, k=0\")\n",
    "\n",
    "    ax = plt.subplot(5, 3, count * 3)\n",
    "    ax.imshow(nbr5.toarray(), cmap='Reds', vmin=0.0, vmax=np.quantile(nbr5.data, 0.95))\n",
    "    ax.set_xticks([], [])\n",
    "    ax.set_yticks([], [])\n",
    "    if count == 1:\n",
    "        ax.set_title(\"higashi, k=5\")\n",
    "\n",
    "plt.tight_layout()"
   ]
  },
  {
   "cell_type": "code",
   "execution_count": null,
   "id": "e08c54d285d9a6ca",
   "metadata": {},
   "outputs": [],
   "source": []
  }
 ],
 "metadata": {
  "kernelspec": {
   "display_name": "Python 3",
   "language": "python",
   "name": "python3"
  },
  "language_info": {
   "codemirror_mode": {
    "name": "ipython",
    "version": 3
   },
   "file_extension": ".py",
   "mimetype": "text/x-python",
   "name": "python",
   "nbconvert_exporter": "python",
   "pygments_lexer": "ipython3",
   "version": "3.6.9"
  }
 },
 "nbformat": 4,
 "nbformat_minor": 5
}
