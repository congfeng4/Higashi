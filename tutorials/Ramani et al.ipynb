{
 "cells": [
  {
   "cell_type": "markdown",
   "id": "42fa4383",
   "metadata": {},
   "source": [
    "# Embedding and Imputation on Ramani et al. scHi-C"
   ]
  },
  {
   "cell_type": "markdown",
   "id": "7ccb9310",
   "metadata": {},
   "source": [
    "## Notes\n",
    "\n",
    "This tutorial uses the new API of Higashi (wrapping all functions of Higashi into the Higashi() class).\n",
    "The old API of Higashi will still be supported and maintained).\n",
    "Please check changelog for the current status of migration from the old API to the new API."
   ]
  },
  {
   "cell_type": "markdown",
   "id": "227b85a4",
   "metadata": {},
   "source": [
    "## Preparation\n",
    "\n",
    "### Download input files\n",
    "Download the demo data from the following link (Ramani et al.)\n",
    "https://drive.google.com/drive/folders/1S0KOMAj60MxQP6mgPV1OKjn_J-lVpzKM?usp=sharing\n",
    "\n",
    "The dataset contains 620 cells from the ML1/ML3 library of the Ramani et al. dataset.\n",
    "\n",
    "Change the file path in the corresponding JSON file according to the location of the downloaded files.\n",
    "\n",
    "### Install Higashi\n",
    "\n",
    "1. install pytorch>=1.8.0 with cuda support when available.\n",
    "2. `conda install -c ruochiz higashi`\n",
    "(Although higashi would install pytorch when needed, there is no guarantee that it will install the correct version with cuda support. It is recommended to install pytorch separately before higashi.)"
   ]
  },
  {
   "cell_type": "markdown",
   "id": "6ca128b3",
   "metadata": {},
   "source": [
    "## Start running Higashi¶"
   ]
  },
  {
   "cell_type": "markdown",
   "id": "a09e4d58",
   "metadata": {},
   "source": [
    "### 1. Import package, set the path to the configuration JSON file.¶"
   ]
  },
  {
   "metadata": {
    "ExecuteTime": {
     "end_time": "2025-09-29T02:58:26.105036Z",
     "start_time": "2025-09-29T02:58:26.097130Z"
    }
   },
   "cell_type": "code",
   "source": "cd ../",
   "id": "6a7cae988c2087ee",
   "outputs": [
    {
     "name": "stdout",
     "output_type": "stream",
     "text": [
      "/Users/fengcong/Desktop/0825-course/Guided Study/Code/Higashi\n"
     ]
    }
   ],
   "execution_count": 2
  },
  {
   "cell_type": "code",
   "id": "0e5af46e",
   "metadata": {
    "ExecuteTime": {
     "end_time": "2025-09-29T02:58:28.889116Z",
     "start_time": "2025-09-29T02:58:26.253467Z"
    }
   },
   "source": [
    "from higashi.Higashi_wrapper import *\n",
    "config = \"./Data/config_ramani.JSON\"\n",
    "higashi_model = Higashi(config)"
   ],
   "outputs": [],
   "execution_count": 3
  },
  {
   "cell_type": "markdown",
   "id": "e7d5cbf5",
   "metadata": {},
   "source": [
    "### 2. Process data for higashi model"
   ]
  },
  {
   "cell_type": "code",
   "id": "4070da6f",
   "metadata": {
    "ExecuteTime": {
     "end_time": "2025-09-29T02:58:28.932639Z",
     "start_time": "2025-09-29T02:58:28.929397Z"
    }
   },
   "source": "# higashi_model.process_data()",
   "outputs": [],
   "execution_count": 4
  },
  {
   "cell_type": "markdown",
   "id": "23d2dab8",
   "metadata": {},
   "source": [
    "### 3. Prep the higashi model for training and imputation & Stage 1 training"
   ]
  },
  {
   "cell_type": "code",
   "id": "49960c26",
   "metadata": {
    "jupyter": {
     "is_executing": true
    },
    "ExecuteTime": {
     "start_time": "2025-09-29T02:58:28.952019Z"
    }
   },
   "source": [
    "higashi_model.prep_model()\n",
    "# Stage 1 training\n",
    "higashi_model.train_for_embeddings()"
   ],
   "outputs": [
    {
     "name": "stdout",
     "output_type": "stream",
     "text": [
      "cpu_num 8\n",
      "training on data from: ['chr1', 'chr2', 'chr3', 'chr4', 'chr5', 'chr6', 'chr7', 'chr8', 'chr9', 'chr10', 'chr11', 'chr12', 'chr13', 'chr14', 'chr15', 'chr16', 'chr17', 'chr18', 'chr19', 'chr20', 'chr21', 'chr22', 'chrX']\n",
      "total_sparsity_cell 0.025731658257764963\n",
      "no contractive loss\n",
      "batch_size 256\n",
      "Node type num [620 250 244 199 192 181 172 160 147 142 136 136 134 116 108 103  91  82\n",
      "  79  60  64  49  52 156] [ 620  870 1114 1313 1505 1686 1858 2018 2165 2307 2443 2579 2713 2829\n",
      " 2937 3040 3131 3213 3292 3352 3416 3465 3517 3673]\n",
      "start making attribute\n"
     ]
    },
    {
     "data": {
      "text/plain": [
       "  0%|          | 0/300 [00:00<?, ?it/s]"
      ],
      "application/vnd.jupyter.widget-view+json": {
       "version_major": 2,
       "version_minor": 0,
       "model_id": "909d98456ad542159ec2d35f01d87c56"
      }
     },
     "metadata": {},
     "output_type": "display_data",
     "jetTransient": {
      "display_id": null
     }
    },
    {
     "name": "stdout",
     "output_type": "stream",
     "text": [
      "loss 0.6224595308303833 loss best 0.5985812544822693 epochs 147\n",
      "\n",
      "initializing data generator\n"
     ]
    },
    {
     "data": {
      "text/plain": [
       "  0%|          | 0/23 [00:00<?, ?it/s]"
      ],
      "application/vnd.jupyter.widget-view+json": {
       "version_major": 2,
       "version_minor": 0,
       "model_id": "02228867aeeb4e0086cfd62959d85fb0"
      }
     },
     "metadata": {},
     "output_type": "display_data",
     "jetTransient": {
      "display_id": null
     }
    },
    {
     "name": "stdout",
     "output_type": "stream",
     "text": [
      "initializing data generator\n"
     ]
    },
    {
     "data": {
      "text/plain": [
       "  0%|          | 0/23 [00:00<?, ?it/s]"
      ],
      "application/vnd.jupyter.widget-view+json": {
       "version_major": 2,
       "version_minor": 0,
       "model_id": "13e49cc579f447a4bce5df92f75638ef"
      }
     },
     "metadata": {},
     "output_type": "display_data",
     "jetTransient": {
      "display_id": null
     }
    },
    {
     "name": "stdout",
     "output_type": "stream",
     "text": [
      "First stage training\n",
      "[ Epoch 0 of 60 ]\n"
     ]
    },
    {
     "data": {
      "text/plain": [
       " - (Training) :   0%|          | 0/1000 [00:00<?, ?it/s]"
      ],
      "application/vnd.jupyter.widget-view+json": {
       "version_major": 2,
       "version_minor": 0,
       "model_id": "647560f9a95f4c6c9f379b120c560de8"
      }
     },
     "metadata": {},
     "output_type": "display_data",
     "jetTransient": {
      "display_id": null
     }
    }
   ],
   "execution_count": null
  },
  {
   "cell_type": "markdown",
   "id": "104f985a",
   "metadata": {},
   "source": [
    "### 4. Stage 2 training and imputation without neighbor information"
   ]
  },
  {
   "cell_type": "code",
   "execution_count": 8,
   "id": "b415ec08",
   "metadata": {},
   "outputs": [
    {
     "data": {
      "application/vnd.jupyter.widget-view+json": {
       "model_id": "96de564b04384476bdd563aeae5e47e3",
       "version_major": 2,
       "version_minor": 0
      },
      "text/plain": [
       "  0%|          | 0/23 [00:00<?, ?it/s]"
      ]
     },
     "metadata": {},
     "output_type": "display_data"
    },
    {
     "data": {
      "application/vnd.jupyter.widget-view+json": {
       "model_id": "65999d09fced43b0b4af764bfd79f155",
       "version_major": 2,
       "version_minor": 0
      },
      "text/plain": [
       "  0%|          | 0/23 [00:00<?, ?it/s]"
      ]
     },
     "metadata": {},
     "output_type": "display_data"
    },
    {
     "name": "stdout",
     "output_type": "stream",
     "text": [
      "pass_pseudo_id False\n",
      "pass_pseudo_id False\n",
      "Second stage training\n",
      "[ Epoch 0 of 45 ]\n"
     ]
    },
    {
     "data": {
      "application/vnd.jupyter.widget-view+json": {
       "model_id": "",
       "version_major": 2,
       "version_minor": 0
      },
      "text/plain": [
       " - (Training) :   0%|          | 0/1000 [00:00<?, ?it/s]"
      ]
     },
     "metadata": {},
     "output_type": "display_data"
    },
    {
     "name": "stdout",
     "output_type": "stream",
     "text": [
      "- (Train)   bce:  0.5279, mse:  0.0000,  acc: 84.973 %, pearson: 0.529, spearman: 0.501, elapse: 64.212 s\n"
     ]
    },
    {
     "data": {
      "application/vnd.jupyter.widget-view+json": {
       "model_id": "",
       "version_major": 2,
       "version_minor": 0
      },
      "text/plain": [
       "  - (Validation)   :   0%|          | 0/10 [00:00<?, ?it/s]"
      ]
     },
     "metadata": {},
     "output_type": "display_data"
    },
    {
     "name": "stdout",
     "output_type": "stream",
     "text": [
      "- (Valid) bce:  0.4633,  acc: 88.255 %,pearson: 0.647, spearman: 0.582,elapse: 0.105 s\n",
      "\n",
      "[ Epoch 1 of 45 ]\n"
     ]
    },
    {
     "data": {
      "application/vnd.jupyter.widget-view+json": {
       "model_id": "",
       "version_major": 2,
       "version_minor": 0
      },
      "text/plain": [
       " - (Training) :   0%|          | 0/1000 [00:00<?, ?it/s]"
      ]
     },
     "metadata": {},
     "output_type": "display_data"
    },
    {
     "name": "stdout",
     "output_type": "stream",
     "text": [
      "- (Train)   bce:  0.4973, mse:  0.0000,  acc: 88.044 %, pearson: 0.592, spearman: 0.539, elapse: 52.411 s\n"
     ]
    },
    {
     "data": {
      "application/vnd.jupyter.widget-view+json": {
       "model_id": "",
       "version_major": 2,
       "version_minor": 0
      },
      "text/plain": [
       "  - (Validation)   :   0%|          | 0/10 [00:00<?, ?it/s]"
      ]
     },
     "metadata": {},
     "output_type": "display_data"
    },
    {
     "name": "stdout",
     "output_type": "stream",
     "text": [
      "- (Valid) bce:  0.4082,  acc: 91.732 %,pearson: 0.724, spearman: 0.610,elapse: 0.088 s\n",
      "\n",
      "[ Epoch 2 of 45 ]\n"
     ]
    },
    {
     "data": {
      "application/vnd.jupyter.widget-view+json": {
       "model_id": "",
       "version_major": 2,
       "version_minor": 0
      },
      "text/plain": [
       " - (Training) :   0%|          | 0/1000 [00:00<?, ?it/s]"
      ]
     },
     "metadata": {},
     "output_type": "display_data"
    },
    {
     "name": "stdout",
     "output_type": "stream",
     "text": [
      "- (Train)   bce:  0.4839, mse:  0.0000,  acc: 89.259 %, pearson: 0.621, spearman: 0.552, elapse: 51.112 s\n"
     ]
    },
    {
     "data": {
      "application/vnd.jupyter.widget-view+json": {
       "model_id": "",
       "version_major": 2,
       "version_minor": 0
      },
      "text/plain": [
       "  - (Validation)   :   0%|          | 0/10 [00:00<?, ?it/s]"
      ]
     },
     "metadata": {},
     "output_type": "display_data"
    },
    {
     "name": "stdout",
     "output_type": "stream",
     "text": [
      "- (Valid) bce:  0.4068,  acc: 91.803 %,pearson: 0.725, spearman: 0.613,elapse: 0.099 s\n",
      "\n",
      "[ Epoch 3 of 45 ]\n"
     ]
    },
    {
     "data": {
      "application/vnd.jupyter.widget-view+json": {
       "model_id": "",
       "version_major": 2,
       "version_minor": 0
      },
      "text/plain": [
       " - (Training) :   0%|          | 0/1000 [00:00<?, ?it/s]"
      ]
     },
     "metadata": {},
     "output_type": "display_data"
    },
    {
     "name": "stdout",
     "output_type": "stream",
     "text": [
      "- (Train)   bce:  0.4730, mse:  0.0000,  acc: 90.224 %, pearson: 0.642, spearman: 0.562, elapse: 53.427 s\n"
     ]
    },
    {
     "data": {
      "application/vnd.jupyter.widget-view+json": {
       "model_id": "",
       "version_major": 2,
       "version_minor": 0
      },
      "text/plain": [
       "  - (Validation)   :   0%|          | 0/10 [00:00<?, ?it/s]"
      ]
     },
     "metadata": {},
     "output_type": "display_data"
    },
    {
     "name": "stdout",
     "output_type": "stream",
     "text": [
      "- (Valid) bce:  0.4178,  acc: 91.107 %,pearson: 0.729, spearman: 0.617,elapse: 0.102 s\n",
      "\n",
      "[ Epoch 4 of 45 ]\n"
     ]
    },
    {
     "data": {
      "application/vnd.jupyter.widget-view+json": {
       "model_id": "",
       "version_major": 2,
       "version_minor": 0
      },
      "text/plain": [
       " - (Training) :   0%|          | 0/1000 [00:00<?, ?it/s]"
      ]
     },
     "metadata": {},
     "output_type": "display_data"
    },
    {
     "name": "stdout",
     "output_type": "stream",
     "text": [
      "- (Train)   bce:  0.4637, mse:  0.0000,  acc: 90.901 %, pearson: 0.657, spearman: 0.569, elapse: 54.640 s\n"
     ]
    },
    {
     "data": {
      "application/vnd.jupyter.widget-view+json": {
       "model_id": "",
       "version_major": 2,
       "version_minor": 0
      },
      "text/plain": [
       "  - (Validation)   :   0%|          | 0/10 [00:00<?, ?it/s]"
      ]
     },
     "metadata": {},
     "output_type": "display_data"
    },
    {
     "name": "stdout",
     "output_type": "stream",
     "text": [
      "- (Valid) bce:  0.3648,  acc: 94.883 %,pearson: 0.766, spearman: 0.630,elapse: 0.130 s\n",
      "\n",
      "[ Epoch 5 of 45 ]\n"
     ]
    },
    {
     "data": {
      "application/vnd.jupyter.widget-view+json": {
       "model_id": "",
       "version_major": 2,
       "version_minor": 0
      },
      "text/plain": [
       " - (Training) :   0%|          | 0/1000 [00:00<?, ?it/s]"
      ]
     },
     "metadata": {},
     "output_type": "display_data"
    },
    {
     "name": "stdout",
     "output_type": "stream",
     "text": [
      "- (Train)   bce:  0.4569, mse:  0.0000,  acc: 91.414 %, pearson: 0.670, spearman: 0.574, elapse: 47.795 s\n"
     ]
    },
    {
     "data": {
      "application/vnd.jupyter.widget-view+json": {
       "model_id": "",
       "version_major": 2,
       "version_minor": 0
      },
      "text/plain": [
       "  - (Validation)   :   0%|          | 0/10 [00:00<?, ?it/s]"
      ]
     },
     "metadata": {},
     "output_type": "display_data"
    },
    {
     "name": "stdout",
     "output_type": "stream",
     "text": [
      "- (Valid) bce:  0.3676,  acc: 94.681 %,pearson: 0.782, spearman: 0.627,elapse: 0.091 s\n",
      "\n",
      "[ Epoch 6 of 45 ]\n"
     ]
    },
    {
     "data": {
      "application/vnd.jupyter.widget-view+json": {
       "model_id": "",
       "version_major": 2,
       "version_minor": 0
      },
      "text/plain": [
       " - (Training) :   0%|          | 0/1000 [00:00<?, ?it/s]"
      ]
     },
     "metadata": {},
     "output_type": "display_data"
    },
    {
     "name": "stdout",
     "output_type": "stream",
     "text": [
      "- (Train)   bce:  0.4508, mse:  0.0000,  acc: 91.830 %, pearson: 0.679, spearman: 0.578, elapse: 47.757 s\n"
     ]
    },
    {
     "data": {
      "application/vnd.jupyter.widget-view+json": {
       "model_id": "",
       "version_major": 2,
       "version_minor": 0
      },
      "text/plain": [
       "  - (Validation)   :   0%|          | 0/10 [00:00<?, ?it/s]"
      ]
     },
     "metadata": {},
     "output_type": "display_data"
    },
    {
     "name": "stdout",
     "output_type": "stream",
     "text": [
      "- (Valid) bce:  0.3708,  acc: 94.225 %,pearson: 0.786, spearman: 0.632,elapse: 0.104 s\n",
      "\n",
      "[ Epoch 7 of 45 ]\n"
     ]
    },
    {
     "data": {
      "application/vnd.jupyter.widget-view+json": {
       "model_id": "",
       "version_major": 2,
       "version_minor": 0
      },
      "text/plain": [
       " - (Training) :   0%|          | 0/1000 [00:00<?, ?it/s]"
      ]
     },
     "metadata": {},
     "output_type": "display_data"
    },
    {
     "name": "stdout",
     "output_type": "stream",
     "text": [
      "- (Train)   bce:  0.4477, mse:  0.0000,  acc: 92.050 %, pearson: 0.685, spearman: 0.579, elapse: 46.725 s\n"
     ]
    },
    {
     "data": {
      "application/vnd.jupyter.widget-view+json": {
       "model_id": "",
       "version_major": 2,
       "version_minor": 0
      },
      "text/plain": [
       "  - (Validation)   :   0%|          | 0/10 [00:00<?, ?it/s]"
      ]
     },
     "metadata": {},
     "output_type": "display_data"
    },
    {
     "name": "stdout",
     "output_type": "stream",
     "text": [
      "- (Valid) bce:  0.3771,  acc: 94.134 %,pearson: 0.799, spearman: 0.632,elapse: 0.097 s\n",
      "\n",
      "[ Epoch 8 of 45 ]\n"
     ]
    },
    {
     "data": {
      "application/vnd.jupyter.widget-view+json": {
       "model_id": "",
       "version_major": 2,
       "version_minor": 0
      },
      "text/plain": [
       " - (Training) :   0%|          | 0/1000 [00:00<?, ?it/s]"
      ]
     },
     "metadata": {},
     "output_type": "display_data"
    },
    {
     "name": "stdout",
     "output_type": "stream",
     "text": [
      "- (Train)   bce:  0.4397, mse:  0.0000,  acc: 92.531 %, pearson: 0.694, spearman: 0.585, elapse: 44.193 s\n"
     ]
    },
    {
     "data": {
      "application/vnd.jupyter.widget-view+json": {
       "model_id": "",
       "version_major": 2,
       "version_minor": 0
      },
      "text/plain": [
       "  - (Validation)   :   0%|          | 0/10 [00:00<?, ?it/s]"
      ]
     },
     "metadata": {},
     "output_type": "display_data"
    },
    {
     "name": "stdout",
     "output_type": "stream",
     "text": [
      "- (Valid) bce:  0.3538,  acc: 95.456 %,pearson: 0.786, spearman: 0.636,elapse: 0.101 s\n",
      "\n",
      "[ Epoch 9 of 45 ]\n"
     ]
    },
    {
     "data": {
      "application/vnd.jupyter.widget-view+json": {
       "model_id": "",
       "version_major": 2,
       "version_minor": 0
      },
      "text/plain": [
       " - (Training) :   0%|          | 0/1000 [00:00<?, ?it/s]"
      ]
     },
     "metadata": {},
     "output_type": "display_data"
    },
    {
     "name": "stdout",
     "output_type": "stream",
     "text": [
      "- (Train)   bce:  0.4381, mse:  0.0000,  acc: 92.695 %, pearson: 0.699, spearman: 0.586, elapse: 45.761 s\n"
     ]
    },
    {
     "data": {
      "application/vnd.jupyter.widget-view+json": {
       "model_id": "",
       "version_major": 2,
       "version_minor": 0
      },
      "text/plain": [
       "  - (Validation)   :   0%|          | 0/10 [00:00<?, ?it/s]"
      ]
     },
     "metadata": {},
     "output_type": "display_data"
    },
    {
     "name": "stdout",
     "output_type": "stream",
     "text": [
      "- (Valid) bce:  0.3521,  acc: 95.286 %,pearson: 0.802, spearman: 0.636,elapse: 0.099 s\n",
      "\n",
      "[ Epoch 10 of 45 ]\n"
     ]
    },
    {
     "data": {
      "application/vnd.jupyter.widget-view+json": {
       "model_id": "",
       "version_major": 2,
       "version_minor": 0
      },
      "text/plain": [
       " - (Training) :   0%|          | 0/1000 [00:00<?, ?it/s]"
      ]
     },
     "metadata": {},
     "output_type": "display_data"
    },
    {
     "name": "stdout",
     "output_type": "stream",
     "text": [
      "- (Train)   bce:  0.4362, mse:  0.0000,  acc: 92.827 %, pearson: 0.701, spearman: 0.587, elapse: 46.425 s\n"
     ]
    },
    {
     "data": {
      "application/vnd.jupyter.widget-view+json": {
       "model_id": "",
       "version_major": 2,
       "version_minor": 0
      },
      "text/plain": [
       "  - (Validation)   :   0%|          | 0/10 [00:00<?, ?it/s]"
      ]
     },
     "metadata": {},
     "output_type": "display_data"
    },
    {
     "name": "stdout",
     "output_type": "stream",
     "text": [
      "- (Valid) bce:  0.3595,  acc: 95.638 %,pearson: 0.792, spearman: 0.638,elapse: 0.149 s\n",
      "\n",
      "[ Epoch 11 of 45 ]\n"
     ]
    },
    {
     "data": {
      "application/vnd.jupyter.widget-view+json": {
       "model_id": "",
       "version_major": 2,
       "version_minor": 0
      },
      "text/plain": [
       " - (Training) :   0%|          | 0/1000 [00:00<?, ?it/s]"
      ]
     },
     "metadata": {},
     "output_type": "display_data"
    },
    {
     "name": "stdout",
     "output_type": "stream",
     "text": [
      "- (Train)   bce:  0.4338, mse:  0.0000,  acc: 93.041 %, pearson: 0.705, spearman: 0.588, elapse: 45.394 s\n"
     ]
    },
    {
     "data": {
      "application/vnd.jupyter.widget-view+json": {
       "model_id": "",
       "version_major": 2,
       "version_minor": 0
      },
      "text/plain": [
       "  - (Validation)   :   0%|          | 0/10 [00:00<?, ?it/s]"
      ]
     },
     "metadata": {},
     "output_type": "display_data"
    },
    {
     "name": "stdout",
     "output_type": "stream",
     "text": [
      "- (Valid) bce:  0.3533,  acc: 95.566 %,pearson: 0.809, spearman: 0.637,elapse: 0.105 s\n",
      "\n",
      "[ Epoch 12 of 45 ]\n"
     ]
    },
    {
     "data": {
      "application/vnd.jupyter.widget-view+json": {
       "model_id": "",
       "version_major": 2,
       "version_minor": 0
      },
      "text/plain": [
       " - (Training) :   0%|          | 0/1000 [00:00<?, ?it/s]"
      ]
     },
     "metadata": {},
     "output_type": "display_data"
    },
    {
     "name": "stdout",
     "output_type": "stream",
     "text": [
      "- (Train)   bce:  0.4289, mse:  0.0000,  acc: 93.222 %, pearson: 0.709, spearman: 0.590, elapse: 45.188 s\n"
     ]
    },
    {
     "data": {
      "application/vnd.jupyter.widget-view+json": {
       "model_id": "",
       "version_major": 2,
       "version_minor": 0
      },
      "text/plain": [
       "  - (Validation)   :   0%|          | 0/10 [00:00<?, ?it/s]"
      ]
     },
     "metadata": {},
     "output_type": "display_data"
    },
    {
     "name": "stdout",
     "output_type": "stream",
     "text": [
      "- (Valid) bce:  0.3455,  acc: 96.133 %,pearson: 0.799, spearman: 0.637,elapse: 0.106 s\n",
      "\n",
      "[ Epoch 13 of 45 ]\n"
     ]
    },
    {
     "data": {
      "application/vnd.jupyter.widget-view+json": {
       "model_id": "",
       "version_major": 2,
       "version_minor": 0
      },
      "text/plain": [
       " - (Training) :   0%|          | 0/1000 [00:00<?, ?it/s]"
      ]
     },
     "metadata": {},
     "output_type": "display_data"
    },
    {
     "name": "stdout",
     "output_type": "stream",
     "text": [
      "- (Train)   bce:  0.4284, mse:  0.0000,  acc: 93.341 %, pearson: 0.711, spearman: 0.591, elapse: 48.022 s\n"
     ]
    },
    {
     "data": {
      "application/vnd.jupyter.widget-view+json": {
       "model_id": "",
       "version_major": 2,
       "version_minor": 0
      },
      "text/plain": [
       "  - (Validation)   :   0%|          | 0/10 [00:00<?, ?it/s]"
      ]
     },
     "metadata": {},
     "output_type": "display_data"
    },
    {
     "name": "stdout",
     "output_type": "stream",
     "text": [
      "- (Valid) bce:  0.3453,  acc: 96.094 %,pearson: 0.804, spearman: 0.638,elapse: 0.091 s\n",
      "no improve: 1\t\n",
      "[ Epoch 14 of 45 ]\n"
     ]
    },
    {
     "data": {
      "application/vnd.jupyter.widget-view+json": {
       "model_id": "",
       "version_major": 2,
       "version_minor": 0
      },
      "text/plain": [
       " - (Training) :   0%|          | 0/1000 [00:00<?, ?it/s]"
      ]
     },
     "metadata": {},
     "output_type": "display_data"
    },
    {
     "name": "stdout",
     "output_type": "stream",
     "text": [
      "- (Train)   bce:  0.4259, mse:  0.0000,  acc: 93.424 %, pearson: 0.715, spearman: 0.592, elapse: 48.913 s\n"
     ]
    },
    {
     "data": {
      "application/vnd.jupyter.widget-view+json": {
       "model_id": "",
       "version_major": 2,
       "version_minor": 0
      },
      "text/plain": [
       "  - (Validation)   :   0%|          | 0/10 [00:00<?, ?it/s]"
      ]
     },
     "metadata": {},
     "output_type": "display_data"
    },
    {
     "name": "stdout",
     "output_type": "stream",
     "text": [
      "- (Valid) bce:  0.3315,  acc: 96.543 %,pearson: 0.818, spearman: 0.639,elapse: 0.108 s\n",
      "\n",
      "[ Epoch 15 of 45 ]\n"
     ]
    },
    {
     "data": {
      "application/vnd.jupyter.widget-view+json": {
       "model_id": "",
       "version_major": 2,
       "version_minor": 0
      },
      "text/plain": [
       " - (Training) :   0%|          | 0/1000 [00:00<?, ?it/s]"
      ]
     },
     "metadata": {},
     "output_type": "display_data"
    },
    {
     "name": "stdout",
     "output_type": "stream",
     "text": [
      "- (Train)   bce:  0.4212, mse:  0.0000,  acc: 93.664 %, pearson: 0.719, spearman: 0.594, elapse: 49.288 s\n"
     ]
    },
    {
     "data": {
      "application/vnd.jupyter.widget-view+json": {
       "model_id": "",
       "version_major": 2,
       "version_minor": 0
      },
      "text/plain": [
       "  - (Validation)   :   0%|          | 0/10 [00:00<?, ?it/s]"
      ]
     },
     "metadata": {},
     "output_type": "display_data"
    },
    {
     "name": "stdout",
     "output_type": "stream",
     "text": [
      "- (Valid) bce:  0.3320,  acc: 96.530 %,pearson: 0.818, spearman: 0.640,elapse: 0.106 s\n",
      "\n",
      "[ Epoch 16 of 45 ]\n"
     ]
    },
    {
     "data": {
      "application/vnd.jupyter.widget-view+json": {
       "model_id": "",
       "version_major": 2,
       "version_minor": 0
      },
      "text/plain": [
       " - (Training) :   0%|          | 0/1000 [00:00<?, ?it/s]"
      ]
     },
     "metadata": {},
     "output_type": "display_data"
    },
    {
     "name": "stdout",
     "output_type": "stream",
     "text": [
      "- (Train)   bce:  0.4235, mse:  0.0000,  acc: 93.602 %, pearson: 0.719, spearman: 0.594, elapse: 47.218 s\n"
     ]
    },
    {
     "data": {
      "application/vnd.jupyter.widget-view+json": {
       "model_id": "",
       "version_major": 2,
       "version_minor": 0
      },
      "text/plain": [
       "  - (Validation)   :   0%|          | 0/10 [00:00<?, ?it/s]"
      ]
     },
     "metadata": {},
     "output_type": "display_data"
    },
    {
     "name": "stdout",
     "output_type": "stream",
     "text": [
      "- (Valid) bce:  0.3372,  acc: 96.615 %,pearson: 0.807, spearman: 0.639,elapse: 0.103 s\n",
      "no improve: 1\t\n",
      "[ Epoch 17 of 45 ]\n"
     ]
    },
    {
     "data": {
      "application/vnd.jupyter.widget-view+json": {
       "model_id": "",
       "version_major": 2,
       "version_minor": 0
      },
      "text/plain": [
       " - (Training) :   0%|          | 0/1000 [00:00<?, ?it/s]"
      ]
     },
     "metadata": {},
     "output_type": "display_data"
    },
    {
     "name": "stdout",
     "output_type": "stream",
     "text": [
      "- (Train)   bce:  0.4235, mse:  0.0000,  acc: 93.707 %, pearson: 0.719, spearman: 0.594, elapse: 45.967 s\n"
     ]
    },
    {
     "data": {
      "application/vnd.jupyter.widget-view+json": {
       "model_id": "",
       "version_major": 2,
       "version_minor": 0
      },
      "text/plain": [
       "  - (Validation)   :   0%|          | 0/10 [00:00<?, ?it/s]"
      ]
     },
     "metadata": {},
     "output_type": "display_data"
    },
    {
     "name": "stdout",
     "output_type": "stream",
     "text": [
      "- (Valid) bce:  0.3448,  acc: 95.729 %,pearson: 0.808, spearman: 0.636,elapse: 0.103 s\n",
      "no improve: 2\t\n",
      "[ Epoch 18 of 45 ]\n"
     ]
    },
    {
     "data": {
      "application/vnd.jupyter.widget-view+json": {
       "model_id": "",
       "version_major": 2,
       "version_minor": 0
      },
      "text/plain": [
       " - (Training) :   0%|          | 0/1000 [00:00<?, ?it/s]"
      ]
     },
     "metadata": {},
     "output_type": "display_data"
    },
    {
     "name": "stdout",
     "output_type": "stream",
     "text": [
      "- (Train)   bce:  0.4168, mse:  0.0000,  acc: 93.905 %, pearson: 0.724, spearman: 0.596, elapse: 50.365 s\n"
     ]
    },
    {
     "data": {
      "application/vnd.jupyter.widget-view+json": {
       "model_id": "",
       "version_major": 2,
       "version_minor": 0
      },
      "text/plain": [
       "  - (Validation)   :   0%|          | 0/10 [00:00<?, ?it/s]"
      ]
     },
     "metadata": {},
     "output_type": "display_data"
    },
    {
     "name": "stdout",
     "output_type": "stream",
     "text": [
      "- (Valid) bce:  0.3358,  acc: 96.497 %,pearson: 0.804, spearman: 0.639,elapse: 0.103 s\n",
      "\n",
      "[ Epoch 19 of 45 ]\n"
     ]
    },
    {
     "data": {
      "application/vnd.jupyter.widget-view+json": {
       "model_id": "",
       "version_major": 2,
       "version_minor": 0
      },
      "text/plain": [
       " - (Training) :   0%|          | 0/1000 [00:00<?, ?it/s]"
      ]
     },
     "metadata": {},
     "output_type": "display_data"
    },
    {
     "name": "stdout",
     "output_type": "stream",
     "text": [
      "- (Train)   bce:  0.4181, mse:  0.0000,  acc: 93.901 %, pearson: 0.724, spearman: 0.596, elapse: 51.993 s\n"
     ]
    },
    {
     "data": {
      "application/vnd.jupyter.widget-view+json": {
       "model_id": "",
       "version_major": 2,
       "version_minor": 0
      },
      "text/plain": [
       "  - (Validation)   :   0%|          | 0/10 [00:00<?, ?it/s]"
      ]
     },
     "metadata": {},
     "output_type": "display_data"
    },
    {
     "name": "stdout",
     "output_type": "stream",
     "text": [
      "- (Valid) bce:  0.3228,  acc: 97.116 %,pearson: 0.823, spearman: 0.641,elapse: 0.112 s\n",
      "no improve: 1\t\n",
      "[ Epoch 20 of 45 ]\n"
     ]
    },
    {
     "data": {
      "application/vnd.jupyter.widget-view+json": {
       "model_id": "",
       "version_major": 2,
       "version_minor": 0
      },
      "text/plain": [
       " - (Training) :   0%|          | 0/1000 [00:00<?, ?it/s]"
      ]
     },
     "metadata": {},
     "output_type": "display_data"
    },
    {
     "name": "stdout",
     "output_type": "stream",
     "text": [
      "- (Train)   bce:  0.4183, mse:  0.0000,  acc: 93.901 %, pearson: 0.724, spearman: 0.596, elapse: 49.173 s\n"
     ]
    },
    {
     "data": {
      "application/vnd.jupyter.widget-view+json": {
       "model_id": "",
       "version_major": 2,
       "version_minor": 0
      },
      "text/plain": [
       "  - (Validation)   :   0%|          | 0/10 [00:00<?, ?it/s]"
      ]
     },
     "metadata": {},
     "output_type": "display_data"
    },
    {
     "name": "stdout",
     "output_type": "stream",
     "text": [
      "- (Valid) bce:  0.3434,  acc: 96.055 %,pearson: 0.814, spearman: 0.640,elapse: 0.366 s\n",
      "no improve: 2\t\n",
      "[ Epoch 21 of 45 ]\n"
     ]
    },
    {
     "data": {
      "application/vnd.jupyter.widget-view+json": {
       "model_id": "",
       "version_major": 2,
       "version_minor": 0
      },
      "text/plain": [
       " - (Training) :   0%|          | 0/1000 [00:00<?, ?it/s]"
      ]
     },
     "metadata": {},
     "output_type": "display_data"
    },
    {
     "name": "stdout",
     "output_type": "stream",
     "text": [
      "- (Train)   bce:  0.4165, mse:  0.0000,  acc: 94.053 %, pearson: 0.727, spearman: 0.597, elapse: 62.958 s\n"
     ]
    },
    {
     "data": {
      "application/vnd.jupyter.widget-view+json": {
       "model_id": "",
       "version_major": 2,
       "version_minor": 0
      },
      "text/plain": [
       "  - (Validation)   :   0%|          | 0/10 [00:00<?, ?it/s]"
      ]
     },
     "metadata": {},
     "output_type": "display_data"
    },
    {
     "name": "stdout",
     "output_type": "stream",
     "text": [
      "- (Valid) bce:  0.3430,  acc: 96.243 %,pearson: 0.816, spearman: 0.640,elapse: 0.165 s\n",
      "no improve: 3\t\n",
      "[ Epoch 22 of 45 ]\n"
     ]
    },
    {
     "data": {
      "application/vnd.jupyter.widget-view+json": {
       "model_id": "",
       "version_major": 2,
       "version_minor": 0
      },
      "text/plain": [
       " - (Training) :   0%|          | 0/1000 [00:00<?, ?it/s]"
      ]
     },
     "metadata": {},
     "output_type": "display_data"
    },
    {
     "name": "stdout",
     "output_type": "stream",
     "text": [
      "- (Train)   bce:  0.4137, mse:  0.0000,  acc: 94.153 %, pearson: 0.728, spearman: 0.598, elapse: 54.888 s\n"
     ]
    },
    {
     "data": {
      "application/vnd.jupyter.widget-view+json": {
       "model_id": "",
       "version_major": 2,
       "version_minor": 0
      },
      "text/plain": [
       "  - (Validation)   :   0%|          | 0/10 [00:00<?, ?it/s]"
      ]
     },
     "metadata": {},
     "output_type": "display_data"
    },
    {
     "name": "stdout",
     "output_type": "stream",
     "text": [
      "- (Valid) bce:  0.3173,  acc: 97.546 %,pearson: 0.823, spearman: 0.643,elapse: 0.180 s\n",
      "\n",
      "[ Epoch 23 of 45 ]\n"
     ]
    },
    {
     "data": {
      "application/vnd.jupyter.widget-view+json": {
       "model_id": "",
       "version_major": 2,
       "version_minor": 0
      },
      "text/plain": [
       " - (Training) :   0%|          | 0/1000 [00:00<?, ?it/s]"
      ]
     },
     "metadata": {},
     "output_type": "display_data"
    },
    {
     "name": "stdout",
     "output_type": "stream",
     "text": [
      "- (Train)   bce:  0.4130, mse:  0.0000,  acc: 94.216 %, pearson: 0.730, spearman: 0.599, elapse: 33.639 s\n"
     ]
    },
    {
     "data": {
      "application/vnd.jupyter.widget-view+json": {
       "model_id": "",
       "version_major": 2,
       "version_minor": 0
      },
      "text/plain": [
       "  - (Validation)   :   0%|          | 0/10 [00:00<?, ?it/s]"
      ]
     },
     "metadata": {},
     "output_type": "display_data"
    },
    {
     "name": "stdout",
     "output_type": "stream",
     "text": [
      "- (Valid) bce:  0.3337,  acc: 96.777 %,pearson: 0.812, spearman: 0.643,elapse: 0.094 s\n",
      "no improve: 1\t\n",
      "[ Epoch 24 of 45 ]\n"
     ]
    },
    {
     "data": {
      "application/vnd.jupyter.widget-view+json": {
       "model_id": "",
       "version_major": 2,
       "version_minor": 0
      },
      "text/plain": [
       " - (Training) :   0%|          | 0/1000 [00:00<?, ?it/s]"
      ]
     },
     "metadata": {},
     "output_type": "display_data"
    },
    {
     "name": "stdout",
     "output_type": "stream",
     "text": [
      "- (Train)   bce:  0.4121, mse:  0.0000,  acc: 94.246 %, pearson: 0.730, spearman: 0.599, elapse: 32.730 s\n"
     ]
    },
    {
     "data": {
      "application/vnd.jupyter.widget-view+json": {
       "model_id": "",
       "version_major": 2,
       "version_minor": 0
      },
      "text/plain": [
       "  - (Validation)   :   0%|          | 0/10 [00:00<?, ?it/s]"
      ]
     },
     "metadata": {},
     "output_type": "display_data"
    },
    {
     "name": "stdout",
     "output_type": "stream",
     "text": [
      "- (Valid) bce:  0.3519,  acc: 95.645 %,pearson: 0.813, spearman: 0.638,elapse: 0.104 s\n",
      "\n",
      "[ Epoch 25 of 45 ]\n"
     ]
    },
    {
     "data": {
      "application/vnd.jupyter.widget-view+json": {
       "model_id": "",
       "version_major": 2,
       "version_minor": 0
      },
      "text/plain": [
       " - (Training) :   0%|          | 0/1000 [00:00<?, ?it/s]"
      ]
     },
     "metadata": {},
     "output_type": "display_data"
    },
    {
     "name": "stdout",
     "output_type": "stream",
     "text": [
      "- (Train)   bce:  0.4118, mse:  0.0000,  acc: 94.274 %, pearson: 0.732, spearman: 0.599, elapse: 32.502 s\n"
     ]
    },
    {
     "data": {
      "application/vnd.jupyter.widget-view+json": {
       "model_id": "",
       "version_major": 2,
       "version_minor": 0
      },
      "text/plain": [
       "  - (Validation)   :   0%|          | 0/10 [00:00<?, ?it/s]"
      ]
     },
     "metadata": {},
     "output_type": "display_data"
    },
    {
     "name": "stdout",
     "output_type": "stream",
     "text": [
      "- (Valid) bce:  0.3309,  acc: 97.070 %,pearson: 0.815, spearman: 0.641,elapse: 0.079 s\n",
      "no improve: 1\t\n",
      "[ Epoch 26 of 45 ]\n"
     ]
    },
    {
     "data": {
      "application/vnd.jupyter.widget-view+json": {
       "model_id": "",
       "version_major": 2,
       "version_minor": 0
      },
      "text/plain": [
       " - (Training) :   0%|          | 0/1000 [00:00<?, ?it/s]"
      ]
     },
     "metadata": {},
     "output_type": "display_data"
    },
    {
     "name": "stdout",
     "output_type": "stream",
     "text": [
      "- (Train)   bce:  0.4105, mse:  0.0000,  acc: 94.332 %, pearson: 0.732, spearman: 0.600, elapse: 32.861 s\n"
     ]
    },
    {
     "data": {
      "application/vnd.jupyter.widget-view+json": {
       "model_id": "",
       "version_major": 2,
       "version_minor": 0
      },
      "text/plain": [
       "  - (Validation)   :   0%|          | 0/10 [00:00<?, ?it/s]"
      ]
     },
     "metadata": {},
     "output_type": "display_data"
    },
    {
     "name": "stdout",
     "output_type": "stream",
     "text": [
      "- (Valid) bce:  0.3252,  acc: 97.168 %,pearson: 0.817, spearman: 0.642,elapse: 0.100 s\n",
      "\n",
      "[ Epoch 27 of 45 ]\n"
     ]
    },
    {
     "data": {
      "application/vnd.jupyter.widget-view+json": {
       "model_id": "",
       "version_major": 2,
       "version_minor": 0
      },
      "text/plain": [
       " - (Training) :   0%|          | 0/1000 [00:00<?, ?it/s]"
      ]
     },
     "metadata": {},
     "output_type": "display_data"
    },
    {
     "name": "stdout",
     "output_type": "stream",
     "text": [
      "- (Train)   bce:  0.4080, mse:  0.0000,  acc: 94.438 %, pearson: 0.735, spearman: 0.601, elapse: 33.355 s\n"
     ]
    },
    {
     "data": {
      "application/vnd.jupyter.widget-view+json": {
       "model_id": "",
       "version_major": 2,
       "version_minor": 0
      },
      "text/plain": [
       "  - (Validation)   :   0%|          | 0/10 [00:00<?, ?it/s]"
      ]
     },
     "metadata": {},
     "output_type": "display_data"
    },
    {
     "name": "stdout",
     "output_type": "stream",
     "text": [
      "- (Valid) bce:  0.3339,  acc: 96.641 %,pearson: 0.810, spearman: 0.641,elapse: 0.093 s\n",
      "\n",
      "[ Epoch 28 of 45 ]\n"
     ]
    },
    {
     "data": {
      "application/vnd.jupyter.widget-view+json": {
       "model_id": "",
       "version_major": 2,
       "version_minor": 0
      },
      "text/plain": [
       " - (Training) :   0%|          | 0/1000 [00:00<?, ?it/s]"
      ]
     },
     "metadata": {},
     "output_type": "display_data"
    },
    {
     "name": "stdout",
     "output_type": "stream",
     "text": [
      "- (Train)   bce:  0.4095, mse:  0.0000,  acc: 94.413 %, pearson: 0.733, spearman: 0.600, elapse: 32.508 s\n"
     ]
    },
    {
     "data": {
      "application/vnd.jupyter.widget-view+json": {
       "model_id": "",
       "version_major": 2,
       "version_minor": 0
      },
      "text/plain": [
       "  - (Validation)   :   0%|          | 0/10 [00:00<?, ?it/s]"
      ]
     },
     "metadata": {},
     "output_type": "display_data"
    },
    {
     "name": "stdout",
     "output_type": "stream",
     "text": [
      "- (Valid) bce:  0.3409,  acc: 96.367 %,pearson: 0.810, spearman: 0.640,elapse: 0.079 s\n",
      "no improve: 1\t\n",
      "[ Epoch 29 of 45 ]\n"
     ]
    },
    {
     "data": {
      "application/vnd.jupyter.widget-view+json": {
       "model_id": "",
       "version_major": 2,
       "version_minor": 0
      },
      "text/plain": [
       " - (Training) :   0%|          | 0/1000 [00:00<?, ?it/s]"
      ]
     },
     "metadata": {},
     "output_type": "display_data"
    },
    {
     "name": "stdout",
     "output_type": "stream",
     "text": [
      "- (Train)   bce:  0.4086, mse:  0.0000,  acc: 94.444 %, pearson: 0.736, spearman: 0.600, elapse: 32.378 s\n"
     ]
    },
    {
     "data": {
      "application/vnd.jupyter.widget-view+json": {
       "model_id": "",
       "version_major": 2,
       "version_minor": 0
      },
      "text/plain": [
       "  - (Validation)   :   0%|          | 0/10 [00:00<?, ?it/s]"
      ]
     },
     "metadata": {},
     "output_type": "display_data"
    },
    {
     "name": "stdout",
     "output_type": "stream",
     "text": [
      "- (Valid) bce:  0.3475,  acc: 96.283 %,pearson: 0.818, spearman: 0.641,elapse: 0.090 s\n",
      "no improve: 2\t\n",
      "[ Epoch 30 of 45 ]\n"
     ]
    },
    {
     "data": {
      "application/vnd.jupyter.widget-view+json": {
       "model_id": "",
       "version_major": 2,
       "version_minor": 0
      },
      "text/plain": [
       " - (Training) :   0%|          | 0/1000 [00:00<?, ?it/s]"
      ]
     },
     "metadata": {},
     "output_type": "display_data"
    },
    {
     "name": "stdout",
     "output_type": "stream",
     "text": [
      "- (Train)   bce:  0.4090, mse:  0.0000,  acc: 94.447 %, pearson: 0.734, spearman: 0.600, elapse: 33.282 s\n"
     ]
    },
    {
     "data": {
      "application/vnd.jupyter.widget-view+json": {
       "model_id": "",
       "version_major": 2,
       "version_minor": 0
      },
      "text/plain": [
       "  - (Validation)   :   0%|          | 0/10 [00:00<?, ?it/s]"
      ]
     },
     "metadata": {},
     "output_type": "display_data"
    },
    {
     "name": "stdout",
     "output_type": "stream",
     "text": [
      "- (Valid) bce:  0.3261,  acc: 97.507 %,pearson: 0.832, spearman: 0.643,elapse: 0.093 s\n",
      "no improve: 3\t\n",
      "[ Epoch 31 of 45 ]\n"
     ]
    },
    {
     "data": {
      "application/vnd.jupyter.widget-view+json": {
       "model_id": "",
       "version_major": 2,
       "version_minor": 0
      },
      "text/plain": [
       " - (Training) :   0%|          | 0/1000 [00:00<?, ?it/s]"
      ]
     },
     "metadata": {},
     "output_type": "display_data"
    },
    {
     "name": "stdout",
     "output_type": "stream",
     "text": [
      "- (Train)   bce:  0.4077, mse:  0.0000,  acc: 94.533 %, pearson: 0.736, spearman: 0.601, elapse: 33.187 s\n"
     ]
    },
    {
     "data": {
      "application/vnd.jupyter.widget-view+json": {
       "model_id": "",
       "version_major": 2,
       "version_minor": 0
      },
      "text/plain": [
       "  - (Validation)   :   0%|          | 0/10 [00:00<?, ?it/s]"
      ]
     },
     "metadata": {},
     "output_type": "display_data"
    },
    {
     "name": "stdout",
     "output_type": "stream",
     "text": [
      "- (Valid) bce:  0.3414,  acc: 96.771 %,pearson: 0.821, spearman: 0.642,elapse: 0.096 s\n"
     ]
    },
    {
     "data": {
      "application/vnd.jupyter.widget-view+json": {
       "model_id": "",
       "version_major": 2,
       "version_minor": 0
      },
      "text/plain": [
       "  - (Validation)   :   0%|          | 0/10 [00:00<?, ?it/s]"
      ]
     },
     "metadata": {},
     "output_type": "display_data"
    },
    {
     "name": "stdout",
     "output_type": "stream",
     "text": [
      "  - (Validation-hyper) bce:  0.3443,  acc: 96.361 %, auc: 0.818, aupr: 0.642,elapse: 1.559 s\n",
      "total number of triplets to predict: (223102, 3)\n",
      "Imputing exp_zinb3_nbr_0_impute: 1 of 620, takes 0.49 s estimate 302.04 s to finish\n",
      "Imputing exp_zinb3_nbr_0_impute: 11 of 620, takes 3.86 s estimate 213.64 s to finish\n",
      "Imputing exp_zinb3_nbr_0_impute: 21 of 620, takes 7.22 s estimate 205.91 s to finish\n",
      "Imputing exp_zinb3_nbr_0_impute: 31 of 620, takes 10.53 s estimate 200.07 s to finish\n",
      "Imputing exp_zinb3_nbr_0_impute: 41 of 620, takes 14.31 s estimate 202.07 s to finish\n",
      "Imputing exp_zinb3_nbr_0_impute: 51 of 620, takes 17.72 s estimate 197.65 s to finish\n",
      "Imputing exp_zinb3_nbr_0_impute: 61 of 620, takes 20.98 s estimate 192.28 s to finish\n",
      "Imputing exp_zinb3_nbr_0_impute: 71 of 620, takes 24.43 s estimate 188.89 s to finish\n",
      "Imputing exp_zinb3_nbr_0_impute: 81 of 620, takes 27.88 s estimate 185.53 s to finish\n",
      "Imputing exp_zinb3_nbr_0_impute: 91 of 620, takes 31.23 s estimate 181.56 s to finish\n",
      "Imputing exp_zinb3_nbr_0_impute: 101 of 620, takes 34.57 s estimate 177.67 s to finish\n",
      "Imputing exp_zinb3_nbr_0_impute: 111 of 620, takes 37.89 s estimate 173.76 s to finish\n",
      "Imputing exp_zinb3_nbr_0_impute: 121 of 620, takes 41.19 s estimate 169.85 s to finish\n",
      "Imputing exp_zinb3_nbr_0_impute: 131 of 620, takes 44.49 s estimate 166.08 s to finish\n",
      "Imputing exp_zinb3_nbr_0_impute: 141 of 620, takes 47.78 s estimate 162.31 s to finish\n",
      "Imputing exp_zinb3_nbr_0_impute: 151 of 620, takes 51.28 s estimate 159.29 s to finish\n",
      "Imputing exp_zinb3_nbr_0_impute: 161 of 620, takes 54.55 s estimate 155.52 s to finish\n",
      "Imputing exp_zinb3_nbr_0_impute: 171 of 620, takes 57.80 s estimate 151.76 s to finish\n",
      "Imputing exp_zinb3_nbr_0_impute: 181 of 620, takes 61.04 s estimate 148.05 s to finish\n",
      "Imputing exp_zinb3_nbr_0_impute: 191 of 620, takes 64.45 s estimate 144.75 s to finish\n",
      "Imputing exp_zinb3_nbr_0_impute: 201 of 620, takes 67.68 s estimate 141.08 s to finish\n",
      "Imputing exp_zinb3_nbr_0_impute: 211 of 620, takes 70.89 s estimate 137.41 s to finish\n",
      "Imputing exp_zinb3_nbr_0_impute: 221 of 620, takes 74.17 s estimate 133.90 s to finish\n",
      "Imputing exp_zinb3_nbr_0_impute: 231 of 620, takes 77.39 s estimate 130.32 s to finish\n",
      "Imputing exp_zinb3_nbr_0_impute: 241 of 620, takes 80.63 s estimate 126.80 s to finish\n",
      "Imputing exp_zinb3_nbr_0_impute: 251 of 620, takes 84.20 s estimate 123.79 s to finish\n",
      "Imputing exp_zinb3_nbr_0_impute: 261 of 620, takes 87.60 s estimate 120.49 s to finish\n",
      "Imputing exp_zinb3_nbr_0_impute: 271 of 620, takes 90.82 s estimate 116.96 s to finish\n",
      "Imputing exp_zinb3_nbr_0_impute: 281 of 620, takes 93.75 s estimate 113.10 s to finish\n",
      "Imputing exp_zinb3_nbr_0_impute: 291 of 620, takes 96.97 s estimate 109.63 s to finish\n",
      "Imputing exp_zinb3_nbr_0_impute: 301 of 620, takes 100.34 s estimate 106.34 s to finish\n",
      "Imputing exp_zinb3_nbr_0_impute: 311 of 620, takes 103.60 s estimate 102.93 s to finish\n",
      "Imputing exp_zinb3_nbr_0_impute: 321 of 620, takes 106.92 s estimate 99.59 s to finish\n",
      "Imputing exp_zinb3_nbr_0_impute: 331 of 620, takes 110.24 s estimate 96.25 s to finish\n",
      "Imputing exp_zinb3_nbr_0_impute: 341 of 620, takes 113.44 s estimate 92.82 s to finish\n",
      "Imputing exp_zinb3_nbr_0_impute: 351 of 620, takes 116.73 s estimate 89.46 s to finish\n",
      "Imputing exp_zinb3_nbr_0_impute: 361 of 620, takes 120.27 s estimate 86.29 s to finish\n",
      "Imputing exp_zinb3_nbr_0_impute: 371 of 620, takes 123.60 s estimate 82.96 s to finish\n",
      "Imputing exp_zinb3_nbr_0_impute: 381 of 620, takes 126.94 s estimate 79.63 s to finish\n",
      "Imputing exp_zinb3_nbr_0_impute: 391 of 620, takes 130.20 s estimate 76.25 s to finish\n",
      "Imputing exp_zinb3_nbr_0_impute: 401 of 620, takes 133.44 s estimate 72.87 s to finish\n",
      "Imputing exp_zinb3_nbr_0_impute: 411 of 620, takes 136.74 s estimate 69.53 s to finish\n",
      "Imputing exp_zinb3_nbr_0_impute: 421 of 620, takes 140.14 s estimate 66.24 s to finish\n",
      "Imputing exp_zinb3_nbr_0_impute: 431 of 620, takes 143.47 s estimate 62.91 s to finish\n",
      "Imputing exp_zinb3_nbr_0_impute: 441 of 620, takes 147.03 s estimate 59.68 s to finish\n",
      "Imputing exp_zinb3_nbr_0_impute: 451 of 620, takes 150.24 s estimate 56.30 s to finish\n",
      "Imputing exp_zinb3_nbr_0_impute: 461 of 620, takes 153.60 s estimate 52.98 s to finish\n",
      "Imputing exp_zinb3_nbr_0_impute: 471 of 620, takes 156.91 s estimate 49.64 s to finish\n",
      "Imputing exp_zinb3_nbr_0_impute: 481 of 620, takes 160.18 s estimate 46.29 s to finish\n",
      "Imputing exp_zinb3_nbr_0_impute: 491 of 620, takes 163.51 s estimate 42.96 s to finish\n",
      "Imputing exp_zinb3_nbr_0_impute: 501 of 620, takes 166.82 s estimate 39.62 s to finish\n",
      "Imputing exp_zinb3_nbr_0_impute: 511 of 620, takes 170.23 s estimate 36.31 s to finish\n",
      "Imputing exp_zinb3_nbr_0_impute: 521 of 620, takes 173.54 s estimate 32.98 s to finish\n",
      "Imputing exp_zinb3_nbr_0_impute: 531 of 620, takes 177.01 s estimate 29.67 s to finish\n",
      "Imputing exp_zinb3_nbr_0_impute: 541 of 620, takes 180.29 s estimate 26.33 s to finish\n",
      "Imputing exp_zinb3_nbr_0_impute: 551 of 620, takes 183.60 s estimate 22.99 s to finish\n",
      "Imputing exp_zinb3_nbr_0_impute: 561 of 620, takes 186.80 s estimate 19.65 s to finish\n",
      "Imputing exp_zinb3_nbr_0_impute: 571 of 620, takes 189.87 s estimate 16.29 s to finish\n",
      "Imputing exp_zinb3_nbr_0_impute: 581 of 620, takes 193.13 s estimate 12.96 s to finish\n",
      "Imputing exp_zinb3_nbr_0_impute: 591 of 620, takes 196.33 s estimate 9.63 s to finish\n",
      "Imputing exp_zinb3_nbr_0_impute: 601 of 620, takes 199.61 s estimate 6.31 s to finish\n",
      "Imputing exp_zinb3_nbr_0_impute: 611 of 620, takes 202.77 s estimate 2.99 s to finish\n",
      "finish imputing, used 205.69 s\n"
     ]
    }
   ],
   "source": [
    "higashi_model.train_for_imputation_nbr_0()\n",
    "higashi_model.impute_no_nbr()"
   ]
  },
  {
   "cell_type": "markdown",
   "id": "ca78a204",
   "metadata": {},
   "source": [
    "### 5. Stage 3 training and imputation with neighbor information"
   ]
  },
  {
   "cell_type": "code",
   "execution_count": 9,
   "id": "3b211f9e",
   "metadata": {},
   "outputs": [
    {
     "data": {
      "application/vnd.jupyter.widget-view+json": {
       "model_id": "768a6c22d4d14ac9bd1204bf98cc4ca9",
       "version_major": 2,
       "version_minor": 0
      },
      "text/plain": [
       "  0%|          | 0/23 [00:00<?, ?it/s]"
      ]
     },
     "metadata": {},
     "output_type": "display_data"
    },
    {
     "data": {
      "application/vnd.jupyter.widget-view+json": {
       "model_id": "f311d54d68f04902aed428015f64ca67",
       "version_major": 2,
       "version_minor": 0
      },
      "text/plain": [
       "  0%|          | 0/23 [00:00<?, ?it/s]"
      ]
     },
     "metadata": {},
     "output_type": "display_data"
    },
    {
     "name": "stdout",
     "output_type": "stream",
     "text": [
      "getting cell nbr's nbr list\n"
     ]
    },
    {
     "data": {
      "application/vnd.jupyter.widget-view+json": {
       "model_id": "4bcfd0a745324c5f8d95d2b2f89eccd0",
       "version_major": 2,
       "version_minor": 0
      },
      "text/plain": [
       "  0%|          | 0/620 [00:00<?, ?it/s]"
      ]
     },
     "metadata": {},
     "output_type": "display_data"
    },
    {
     "name": "stdout",
     "output_type": "stream",
     "text": [
      "[list([]) array([  1, 323, 128,  13, 229, 270])\n",
      " array([  2, 287,  30, 461, 442, 243])\n",
      " array([  3,  52, 222,  82, 314, 161])\n",
      " array([  4, 304, 269, 270,  37,   1])\n",
      " array([  5, 161, 173, 163,  82, 182])\n",
      " array([  6,  26, 211, 128,  21, 184])\n",
      " array([  7, 111, 158,  25, 188,  77])\n",
      " array([  8, 163,  52, 257,   5, 421])\n",
      " array([  9,  31, 119,  93, 111,  95])] [list([])\n",
      " array([0.3312287 , 0.13527231, 0.13490379, 0.13316663, 0.13272686,\n",
      "        0.1327017 ], dtype=float32)\n",
      " array([0.3429045 , 0.14798632, 0.12863994, 0.12776986, 0.12732387,\n",
      "        0.12537548], dtype=float32)\n",
      " array([0.3519162 , 0.14112534, 0.12917556, 0.1282021 , 0.12641005,\n",
      "        0.12317079], dtype=float32)\n",
      " array([0.36637768, 0.13916051, 0.13213073, 0.12381034, 0.11935434,\n",
      "        0.11916636], dtype=float32)\n",
      " array([0.3251313 , 0.14442989, 0.13803163, 0.1361649 , 0.12902556,\n",
      "        0.12721674], dtype=float32)\n",
      " array([0.42240748, 0.11887022, 0.11845106, 0.1168405 , 0.11433152,\n",
      "        0.10909923], dtype=float32)\n",
      " array([0.38637385, 0.12964743, 0.12601624, 0.12070298, 0.11866991,\n",
      "        0.11858955], dtype=float32)\n",
      " array([0.33793476, 0.14705443, 0.134056  , 0.12882584, 0.12655142,\n",
      "        0.12557748], dtype=float32)\n",
      " array([0.34192237, 0.14655867, 0.12958705, 0.12869608, 0.12681097,\n",
      "        0.12642482], dtype=float32)                                ]\n"
     ]
    },
    {
     "data": {
      "application/vnd.jupyter.widget-view+json": {
       "model_id": "4be87d0910d0412ea3fdc8a9a160feed",
       "version_major": 2,
       "version_minor": 0
      },
      "text/plain": [
       "  0%|          | 0/621 [00:00<?, ?it/s]"
      ]
     },
     "metadata": {},
     "output_type": "display_data"
    },
    {
     "name": "stdout",
     "output_type": "stream",
     "text": [
      "Final stage training\n",
      "[ Epoch 0 of 30 ]\n"
     ]
    },
    {
     "data": {
      "application/vnd.jupyter.widget-view+json": {
       "model_id": "",
       "version_major": 2,
       "version_minor": 0
      },
      "text/plain": [
       " - (Training) :   0%|          | 0/1000 [00:00<?, ?it/s]"
      ]
     },
     "metadata": {},
     "output_type": "display_data"
    },
    {
     "name": "stdout",
     "output_type": "stream",
     "text": [
      "- (Train)   bce:  0.4714, mse:  0.0000,  acc: 89.718 %, pearson: 0.664, spearman: 0.555, elapse: 58.329 s\n"
     ]
    },
    {
     "data": {
      "application/vnd.jupyter.widget-view+json": {
       "model_id": "",
       "version_major": 2,
       "version_minor": 0
      },
      "text/plain": [
       "  - (Validation)   :   0%|          | 0/10 [00:00<?, ?it/s]"
      ]
     },
     "metadata": {},
     "output_type": "display_data"
    },
    {
     "name": "stdout",
     "output_type": "stream",
     "text": [
      "- (Valid) bce:  0.4008,  acc: 91.745 %,pearson: 0.765, spearman: 0.613,elapse: 0.080 s\n",
      "\n",
      "[ Epoch 1 of 30 ]\n"
     ]
    },
    {
     "data": {
      "application/vnd.jupyter.widget-view+json": {
       "model_id": "",
       "version_major": 2,
       "version_minor": 0
      },
      "text/plain": [
       " - (Training) :   0%|          | 0/1000 [00:00<?, ?it/s]"
      ]
     },
     "metadata": {},
     "output_type": "display_data"
    },
    {
     "name": "stdout",
     "output_type": "stream",
     "text": [
      "- (Train)   bce:  0.4671, mse:  0.0000,  acc: 90.034 %, pearson: 0.672, spearman: 0.558, elapse: 32.670 s\n"
     ]
    },
    {
     "data": {
      "application/vnd.jupyter.widget-view+json": {
       "model_id": "",
       "version_major": 2,
       "version_minor": 0
      },
      "text/plain": [
       "  - (Validation)   :   0%|          | 0/10 [00:00<?, ?it/s]"
      ]
     },
     "metadata": {},
     "output_type": "display_data"
    },
    {
     "name": "stdout",
     "output_type": "stream",
     "text": [
      "- (Valid) bce:  0.4045,  acc: 91.536 %,pearson: 0.765, spearman: 0.614,elapse: 0.091 s\n",
      "\n",
      "[ Epoch 2 of 30 ]\n"
     ]
    },
    {
     "data": {
      "application/vnd.jupyter.widget-view+json": {
       "model_id": "",
       "version_major": 2,
       "version_minor": 0
      },
      "text/plain": [
       " - (Training) :   0%|          | 0/1000 [00:00<?, ?it/s]"
      ]
     },
     "metadata": {},
     "output_type": "display_data"
    },
    {
     "name": "stdout",
     "output_type": "stream",
     "text": [
      "- (Train)   bce:  0.4633, mse:  0.0000,  acc: 90.239 %, pearson: 0.677, spearman: 0.560, elapse: 33.988 s\n"
     ]
    },
    {
     "data": {
      "application/vnd.jupyter.widget-view+json": {
       "model_id": "",
       "version_major": 2,
       "version_minor": 0
      },
      "text/plain": [
       "  - (Validation)   :   0%|          | 0/10 [00:00<?, ?it/s]"
      ]
     },
     "metadata": {},
     "output_type": "display_data"
    },
    {
     "name": "stdout",
     "output_type": "stream",
     "text": [
      "- (Valid) bce:  0.4094,  acc: 91.139 %,pearson: 0.755, spearman: 0.606,elapse: 0.092 s\n",
      "\n",
      "[ Epoch 3 of 30 ]\n"
     ]
    },
    {
     "data": {
      "application/vnd.jupyter.widget-view+json": {
       "model_id": "",
       "version_major": 2,
       "version_minor": 0
      },
      "text/plain": [
       " - (Training) :   0%|          | 0/1000 [00:00<?, ?it/s]"
      ]
     },
     "metadata": {},
     "output_type": "display_data"
    },
    {
     "name": "stdout",
     "output_type": "stream",
     "text": [
      "- (Train)   bce:  0.4632, mse:  0.0000,  acc: 90.259 %, pearson: 0.679, spearman: 0.561, elapse: 33.509 s\n"
     ]
    },
    {
     "data": {
      "application/vnd.jupyter.widget-view+json": {
       "model_id": "",
       "version_major": 2,
       "version_minor": 0
      },
      "text/plain": [
       "  - (Validation)   :   0%|          | 0/10 [00:00<?, ?it/s]"
      ]
     },
     "metadata": {},
     "output_type": "display_data"
    },
    {
     "name": "stdout",
     "output_type": "stream",
     "text": [
      "- (Valid) bce:  0.4000,  acc: 91.712 %,pearson: 0.789, spearman: 0.616,elapse: 0.083 s\n",
      "no improve: 1\t\n",
      "[ Epoch 4 of 30 ]\n"
     ]
    },
    {
     "data": {
      "application/vnd.jupyter.widget-view+json": {
       "model_id": "",
       "version_major": 2,
       "version_minor": 0
      },
      "text/plain": [
       " - (Training) :   0%|          | 0/1000 [00:00<?, ?it/s]"
      ]
     },
     "metadata": {},
     "output_type": "display_data"
    },
    {
     "name": "stdout",
     "output_type": "stream",
     "text": [
      "- (Train)   bce:  0.4625, mse:  0.0000,  acc: 90.295 %, pearson: 0.679, spearman: 0.561, elapse: 33.665 s\n"
     ]
    },
    {
     "data": {
      "application/vnd.jupyter.widget-view+json": {
       "model_id": "",
       "version_major": 2,
       "version_minor": 0
      },
      "text/plain": [
       "  - (Validation)   :   0%|          | 0/10 [00:00<?, ?it/s]"
      ]
     },
     "metadata": {},
     "output_type": "display_data"
    },
    {
     "name": "stdout",
     "output_type": "stream",
     "text": [
      "- (Valid) bce:  0.3910,  acc: 91.895 %,pearson: 0.773, spearman: 0.614,elapse: 0.095 s\n",
      "no improve: 2\t\n",
      "[ Epoch 5 of 30 ]\n"
     ]
    },
    {
     "data": {
      "application/vnd.jupyter.widget-view+json": {
       "model_id": "",
       "version_major": 2,
       "version_minor": 0
      },
      "text/plain": [
       " - (Training) :   0%|          | 0/1000 [00:00<?, ?it/s]"
      ]
     },
     "metadata": {},
     "output_type": "display_data"
    },
    {
     "name": "stdout",
     "output_type": "stream",
     "text": [
      "- (Train)   bce:  0.4626, mse:  0.0000,  acc: 90.354 %, pearson: 0.680, spearman: 0.561, elapse: 34.291 s\n"
     ]
    },
    {
     "data": {
      "application/vnd.jupyter.widget-view+json": {
       "model_id": "",
       "version_major": 2,
       "version_minor": 0
      },
      "text/plain": [
       "  - (Validation)   :   0%|          | 0/10 [00:00<?, ?it/s]"
      ]
     },
     "metadata": {},
     "output_type": "display_data"
    },
    {
     "name": "stdout",
     "output_type": "stream",
     "text": [
      "- (Valid) bce:  0.3896,  acc: 92.617 %,pearson: 0.785, spearman: 0.617,elapse: 0.098 s\n",
      "no improve: 3\t\n",
      "[ Epoch 6 of 30 ]\n"
     ]
    },
    {
     "data": {
      "application/vnd.jupyter.widget-view+json": {
       "model_id": "",
       "version_major": 2,
       "version_minor": 0
      },
      "text/plain": [
       " - (Training) :   0%|          | 0/1000 [00:00<?, ?it/s]"
      ]
     },
     "metadata": {},
     "output_type": "display_data"
    },
    {
     "name": "stdout",
     "output_type": "stream",
     "text": [
      "- (Train)   bce:  0.4598, mse:  0.0000,  acc: 90.414 %, pearson: 0.683, spearman: 0.563, elapse: 33.604 s\n"
     ]
    },
    {
     "data": {
      "application/vnd.jupyter.widget-view+json": {
       "model_id": "",
       "version_major": 2,
       "version_minor": 0
      },
      "text/plain": [
       "  - (Validation)   :   0%|          | 0/10 [00:00<?, ?it/s]"
      ]
     },
     "metadata": {},
     "output_type": "display_data"
    },
    {
     "name": "stdout",
     "output_type": "stream",
     "text": [
      "- (Valid) bce:  0.3855,  acc: 92.350 %,pearson: 0.796, spearman: 0.619,elapse: 0.084 s\n",
      "\n",
      "[ Epoch 7 of 30 ]\n"
     ]
    },
    {
     "data": {
      "application/vnd.jupyter.widget-view+json": {
       "model_id": "",
       "version_major": 2,
       "version_minor": 0
      },
      "text/plain": [
       " - (Training) :   0%|          | 0/1000 [00:00<?, ?it/s]"
      ]
     },
     "metadata": {},
     "output_type": "display_data"
    },
    {
     "name": "stdout",
     "output_type": "stream",
     "text": [
      "- (Train)   bce:  0.4603, mse:  0.0000,  acc: 90.420 %, pearson: 0.682, spearman: 0.562, elapse: 33.951 s\n"
     ]
    },
    {
     "data": {
      "application/vnd.jupyter.widget-view+json": {
       "model_id": "",
       "version_major": 2,
       "version_minor": 0
      },
      "text/plain": [
       "  - (Validation)   :   0%|          | 0/10 [00:00<?, ?it/s]"
      ]
     },
     "metadata": {},
     "output_type": "display_data"
    },
    {
     "name": "stdout",
     "output_type": "stream",
     "text": [
      "- (Valid) bce:  0.3910,  acc: 92.220 %,pearson: 0.777, spearman: 0.615,elapse: 0.118 s\n",
      "no improve: 1\t\n",
      "[ Epoch 8 of 30 ]\n"
     ]
    },
    {
     "data": {
      "application/vnd.jupyter.widget-view+json": {
       "model_id": "",
       "version_major": 2,
       "version_minor": 0
      },
      "text/plain": [
       " - (Training) :   0%|          | 0/1000 [00:00<?, ?it/s]"
      ]
     },
     "metadata": {},
     "output_type": "display_data"
    },
    {
     "name": "stdout",
     "output_type": "stream",
     "text": [
      "- (Train)   bce:  0.4610, mse:  0.0000,  acc: 90.430 %, pearson: 0.683, spearman: 0.563, elapse: 34.217 s\n"
     ]
    },
    {
     "data": {
      "application/vnd.jupyter.widget-view+json": {
       "model_id": "",
       "version_major": 2,
       "version_minor": 0
      },
      "text/plain": [
       "  - (Validation)   :   0%|          | 0/10 [00:00<?, ?it/s]"
      ]
     },
     "metadata": {},
     "output_type": "display_data"
    },
    {
     "name": "stdout",
     "output_type": "stream",
     "text": [
      "- (Valid) bce:  0.4058,  acc: 91.628 %,pearson: 0.775, spearman: 0.610,elapse: 0.121 s\n",
      "no improve: 2\t\n",
      "[ Epoch 9 of 30 ]\n"
     ]
    },
    {
     "data": {
      "application/vnd.jupyter.widget-view+json": {
       "model_id": "",
       "version_major": 2,
       "version_minor": 0
      },
      "text/plain": [
       " - (Training) :   0%|          | 0/1000 [00:00<?, ?it/s]"
      ]
     },
     "metadata": {},
     "output_type": "display_data"
    },
    {
     "name": "stdout",
     "output_type": "stream",
     "text": [
      "- (Train)   bce:  0.4592, mse:  0.0000,  acc: 90.528 %, pearson: 0.685, spearman: 0.564, elapse: 32.916 s\n"
     ]
    },
    {
     "data": {
      "application/vnd.jupyter.widget-view+json": {
       "model_id": "",
       "version_major": 2,
       "version_minor": 0
      },
      "text/plain": [
       "  - (Validation)   :   0%|          | 0/10 [00:00<?, ?it/s]"
      ]
     },
     "metadata": {},
     "output_type": "display_data"
    },
    {
     "name": "stdout",
     "output_type": "stream",
     "text": [
      "- (Valid) bce:  0.3914,  acc: 92.201 %,pearson: 0.789, spearman: 0.620,elapse: 0.138 s\n",
      "no improve: 3\t\n",
      "[ Epoch 10 of 30 ]\n"
     ]
    },
    {
     "data": {
      "application/vnd.jupyter.widget-view+json": {
       "model_id": "",
       "version_major": 2,
       "version_minor": 0
      },
      "text/plain": [
       " - (Training) :   0%|          | 0/1000 [00:00<?, ?it/s]"
      ]
     },
     "metadata": {},
     "output_type": "display_data"
    },
    {
     "name": "stdout",
     "output_type": "stream",
     "text": [
      "- (Train)   bce:  0.4597, mse:  0.0000,  acc: 90.557 %, pearson: 0.686, spearman: 0.563, elapse: 34.285 s\n"
     ]
    },
    {
     "data": {
      "application/vnd.jupyter.widget-view+json": {
       "model_id": "",
       "version_major": 2,
       "version_minor": 0
      },
      "text/plain": [
       "  - (Validation)   :   0%|          | 0/10 [00:00<?, ?it/s]"
      ]
     },
     "metadata": {},
     "output_type": "display_data"
    },
    {
     "name": "stdout",
     "output_type": "stream",
     "text": [
      "- (Valid) bce:  0.3842,  acc: 92.962 %,pearson: 0.799, spearman: 0.621,elapse: 0.111 s\n"
     ]
    },
    {
     "data": {
      "application/vnd.jupyter.widget-view+json": {
       "model_id": "",
       "version_major": 2,
       "version_minor": 0
      },
      "text/plain": [
       "  - (Validation)   :   0%|          | 0/10 [00:00<?, ?it/s]"
      ]
     },
     "metadata": {},
     "output_type": "display_data"
    },
    {
     "name": "stdout",
     "output_type": "stream",
     "text": [
      "  - (Validation-hyper) bce:  0.3861,  acc: 92.832 %, auc: 0.790, aupr: 0.615,elapse: 1.955 s\n",
      "total number of triplets to predict: (223102, 3)\n",
      "Imputing exp_zinb3_nbr_5_impute: 1 of 620, takes 0.42 s estimate 257.59 s to finish\n",
      "Imputing exp_zinb3_nbr_5_impute: 11 of 620, takes 4.36 s estimate 241.51 s to finish\n",
      "Imputing exp_zinb3_nbr_5_impute: 21 of 620, takes 8.25 s estimate 235.45 s to finish\n",
      "Imputing exp_zinb3_nbr_5_impute: 31 of 620, takes 12.28 s estimate 233.40 s to finish\n",
      "Imputing exp_zinb3_nbr_5_impute: 41 of 620, takes 16.20 s estimate 228.73 s to finish\n",
      "Imputing exp_zinb3_nbr_5_impute: 51 of 620, takes 20.01 s estimate 223.27 s to finish\n",
      "Imputing exp_zinb3_nbr_5_impute: 61 of 620, takes 23.85 s estimate 218.56 s to finish\n",
      "Imputing exp_zinb3_nbr_5_impute: 71 of 620, takes 27.68 s estimate 214.03 s to finish\n",
      "Imputing exp_zinb3_nbr_5_impute: 81 of 620, takes 31.71 s estimate 211.03 s to finish\n",
      "Imputing exp_zinb3_nbr_5_impute: 91 of 620, takes 35.63 s estimate 207.12 s to finish\n",
      "Imputing exp_zinb3_nbr_5_impute: 101 of 620, takes 39.49 s estimate 202.91 s to finish\n",
      "Imputing exp_zinb3_nbr_5_impute: 111 of 620, takes 43.41 s estimate 199.06 s to finish\n",
      "Imputing exp_zinb3_nbr_5_impute: 121 of 620, takes 47.57 s estimate 196.18 s to finish\n",
      "Imputing exp_zinb3_nbr_5_impute: 131 of 620, takes 51.40 s estimate 191.86 s to finish\n",
      "Imputing exp_zinb3_nbr_5_impute: 141 of 620, takes 54.82 s estimate 186.22 s to finish\n",
      "Imputing exp_zinb3_nbr_5_impute: 151 of 620, takes 58.44 s estimate 181.52 s to finish\n",
      "Imputing exp_zinb3_nbr_5_impute: 161 of 620, takes 62.29 s estimate 177.59 s to finish\n",
      "Imputing exp_zinb3_nbr_5_impute: 171 of 620, takes 66.12 s estimate 173.60 s to finish\n",
      "Imputing exp_zinb3_nbr_5_impute: 181 of 620, takes 69.98 s estimate 169.73 s to finish\n",
      "Imputing exp_zinb3_nbr_5_impute: 191 of 620, takes 74.36 s estimate 167.02 s to finish\n",
      "Imputing exp_zinb3_nbr_5_impute: 201 of 620, takes 78.21 s estimate 163.04 s to finish\n",
      "Imputing exp_zinb3_nbr_5_impute: 211 of 620, takes 82.02 s estimate 158.99 s to finish\n",
      "Imputing exp_zinb3_nbr_5_impute: 221 of 620, takes 85.83 s estimate 154.96 s to finish\n",
      "Imputing exp_zinb3_nbr_5_impute: 231 of 620, takes 89.72 s estimate 151.09 s to finish\n",
      "Imputing exp_zinb3_nbr_5_impute: 241 of 620, takes 93.56 s estimate 147.13 s to finish\n",
      "Imputing exp_zinb3_nbr_5_impute: 251 of 620, takes 97.36 s estimate 143.13 s to finish\n",
      "Imputing exp_zinb3_nbr_5_impute: 261 of 620, takes 101.57 s estimate 139.71 s to finish\n",
      "Imputing exp_zinb3_nbr_5_impute: 271 of 620, takes 105.44 s estimate 135.79 s to finish\n",
      "Imputing exp_zinb3_nbr_5_impute: 281 of 620, takes 109.19 s estimate 131.73 s to finish\n",
      "Imputing exp_zinb3_nbr_5_impute: 291 of 620, takes 113.08 s estimate 127.85 s to finish\n",
      "Imputing exp_zinb3_nbr_5_impute: 301 of 620, takes 116.92 s estimate 123.91 s to finish\n",
      "Imputing exp_zinb3_nbr_5_impute: 311 of 620, takes 120.75 s estimate 119.98 s to finish\n",
      "Imputing exp_zinb3_nbr_5_impute: 321 of 620, takes 124.54 s estimate 116.00 s to finish\n",
      "Imputing exp_zinb3_nbr_5_impute: 331 of 620, takes 128.33 s estimate 112.04 s to finish\n",
      "Imputing exp_zinb3_nbr_5_impute: 341 of 620, takes 132.33 s estimate 108.27 s to finish\n",
      "Imputing exp_zinb3_nbr_5_impute: 351 of 620, takes 136.13 s estimate 104.33 s to finish\n",
      "Imputing exp_zinb3_nbr_5_impute: 361 of 620, takes 139.91 s estimate 100.38 s to finish\n",
      "Imputing exp_zinb3_nbr_5_impute: 371 of 620, takes 143.73 s estimate 96.46 s to finish\n",
      "Imputing exp_zinb3_nbr_5_impute: 381 of 620, takes 147.53 s estimate 92.55 s to finish\n",
      "Imputing exp_zinb3_nbr_5_impute: 391 of 620, takes 150.94 s estimate 88.40 s to finish\n",
      "Imputing exp_zinb3_nbr_5_impute: 401 of 620, takes 154.45 s estimate 84.35 s to finish\n",
      "Imputing exp_zinb3_nbr_5_impute: 411 of 620, takes 158.21 s estimate 80.45 s to finish\n",
      "Imputing exp_zinb3_nbr_5_impute: 421 of 620, takes 162.00 s estimate 76.58 s to finish\n",
      "Imputing exp_zinb3_nbr_5_impute: 431 of 620, takes 166.01 s estimate 72.80 s to finish\n",
      "Imputing exp_zinb3_nbr_5_impute: 441 of 620, takes 169.74 s estimate 68.90 s to finish\n",
      "Imputing exp_zinb3_nbr_5_impute: 451 of 620, takes 173.44 s estimate 64.99 s to finish\n",
      "Imputing exp_zinb3_nbr_5_impute: 461 of 620, takes 177.17 s estimate 61.11 s to finish\n",
      "Imputing exp_zinb3_nbr_5_impute: 471 of 620, takes 180.92 s estimate 57.23 s to finish\n",
      "Imputing exp_zinb3_nbr_5_impute: 481 of 620, takes 184.71 s estimate 53.38 s to finish\n",
      "Imputing exp_zinb3_nbr_5_impute: 491 of 620, takes 188.44 s estimate 49.51 s to finish\n",
      "Imputing exp_zinb3_nbr_5_impute: 501 of 620, takes 192.26 s estimate 45.67 s to finish\n",
      "Imputing exp_zinb3_nbr_5_impute: 511 of 620, takes 195.97 s estimate 41.80 s to finish\n",
      "Imputing exp_zinb3_nbr_5_impute: 521 of 620, takes 199.70 s estimate 37.95 s to finish\n",
      "Imputing exp_zinb3_nbr_5_impute: 531 of 620, takes 203.47 s estimate 34.10 s to finish\n",
      "Imputing exp_zinb3_nbr_5_impute: 541 of 620, takes 207.27 s estimate 30.27 s to finish\n",
      "Imputing exp_zinb3_nbr_5_impute: 551 of 620, takes 211.04 s estimate 26.43 s to finish\n",
      "Imputing exp_zinb3_nbr_5_impute: 561 of 620, takes 214.78 s estimate 22.59 s to finish\n",
      "Imputing exp_zinb3_nbr_5_impute: 571 of 620, takes 218.52 s estimate 18.75 s to finish\n",
      "Imputing exp_zinb3_nbr_5_impute: 581 of 620, takes 222.30 s estimate 14.92 s to finish\n",
      "Imputing exp_zinb3_nbr_5_impute: 591 of 620, takes 226.06 s estimate 11.09 s to finish\n",
      "Imputing exp_zinb3_nbr_5_impute: 601 of 620, takes 229.81 s estimate 7.27 s to finish\n",
      "Imputing exp_zinb3_nbr_5_impute: 611 of 620, takes 233.55 s estimate 3.44 s to finish\n",
      "finish imputing, used 236.95 s\n"
     ]
    }
   ],
   "source": [
    "higashi_model.train_for_imputation_with_nbr()\n",
    "higashi_model.impute_with_nbr()"
   ]
  },
  {
   "cell_type": "markdown",
   "id": "32faa687",
   "metadata": {},
   "source": [
    "### 5. Visulizing embedding results"
   ]
  },
  {
   "cell_type": "code",
   "execution_count": 12,
   "id": "d22cac0a",
   "metadata": {},
   "outputs": [
    {
     "name": "stdout",
     "output_type": "stream",
     "text": [
      "(620, 64)\n"
     ]
    },
    {
     "data": {
      "image/png": "[encoded data removed]",
      "text/plain": [
       "<Figure size 1008x360 with 2 Axes>"
      ]
     },
     "metadata": {
      "needs_background": "light"
     },
     "output_type": "display_data"
    }
   ],
   "source": [
    "# Visualize embedding results\n",
    "cell_embeddings = higashi_model.fetch_cell_embeddings()\n",
    "print (cell_embeddings.shape)\n",
    "\n",
    "from umap import UMAP\n",
    "from sklearn.decomposition import PCA\n",
    "import seaborn as sns\n",
    "import matplotlib.pyplot as plt\n",
    "\n",
    "cell_type = higashi_model.label_info['cell type']\n",
    "fig = plt.figure(figsize=(14, 5))\n",
    "ax = plt.subplot(1, 2, 1)\n",
    "vec = PCA(n_components=2).fit_transform(cell_embeddings)\n",
    "sns.scatterplot(x=vec[:, 0], y=vec[:, 1], hue=cell_type, ax=ax, s=6, linewidth=0)\n",
    "handles, labels = ax.get_legend_handles_labels()\n",
    "labels, handles = zip(*sorted(zip(labels, handles), key=lambda t: t[0]))\n",
    "ax.legend(handles=handles, labels=labels, bbox_to_anchor=(1.05, 1), loc=2, borderaxespad=0., ncol=1)\n",
    "ax = plt.subplot(1, 2, 2)\n",
    "vec = UMAP(n_components=2).fit_transform(cell_embeddings)\n",
    "sns.scatterplot(x=vec[:, 0], y=vec[:, 1], hue=cell_type, ax=ax, s=6, linewidth=0)\n",
    "handles, labels = ax.get_legend_handles_labels()\n",
    "labels, handles = zip(*sorted(zip(labels, handles), key=lambda t: t[0]))\n",
    "ax.legend(handles=handles, labels=labels, bbox_to_anchor=(1.05, 1), loc=2, borderaxespad=0., ncol=1)\n",
    "plt.tight_layout()\n",
    "plt.show()\n",
    "\n"
   ]
  },
  {
   "cell_type": "markdown",
   "id": "7f116199",
   "metadata": {},
   "source": [
    "### 6. Visualizing imputation results"
   ]
  },
  {
   "cell_type": "code",
   "execution_count": 50,
   "id": "1320110b",
   "metadata": {},
   "outputs": [
    {
     "data": {
      "image/png": "[encoded data removed]",
      "text/plain": [
       "<Figure size 432x720 with 15 Axes>"
      ]
     },
     "metadata": {},
     "output_type": "display_data"
    }
   ],
   "source": [
    "count = 0\n",
    "fig = plt.figure(figsize=(6, 2*5))\n",
    "for id_ in np.random.randint(0, 620, 5):\n",
    "    ori, nbr0, nbr5 = higashi_model.fetch_map(\"chr3\", id_)\n",
    "    count += 1\n",
    "    ax = plt.subplot(5, 3, count * 3 - 2)\n",
    "    ax.imshow(ori.toarray(), cmap='Reds', vmin=0.0, vmax=np.quantile(ori.data, 0.6))\n",
    "    ax.set_xticks([], [])\n",
    "    ax.set_yticks([], [])\n",
    "    if count == 1:\n",
    "        ax.set_title(\"raw\")\n",
    "    \n",
    "    ax = plt.subplot(5, 3, count * 3 - 1)\n",
    "    ax.imshow(nbr0.toarray(), cmap='Reds', vmin=0.0, vmax=np.quantile(nbr0.data, 0.95))\n",
    "    ax.set_xticks([], [])\n",
    "    ax.set_yticks([], [])\n",
    "    if count == 1:\n",
    "        ax.set_title(\"higashi, k=0\")\n",
    "    \n",
    "    ax = plt.subplot(5, 3, count * 3)\n",
    "    ax.imshow(nbr5.toarray(), cmap='Reds', vmin=0.0, vmax=np.quantile(nbr5.data, 0.95))\n",
    "    ax.set_xticks([], [])\n",
    "    ax.set_yticks([], [])\n",
    "    if count == 1:\n",
    "        ax.set_title(\"higashi, k=5\")\n",
    "    \n",
    "plt.tight_layout()"
   ]
  },
  {
   "metadata": {},
   "cell_type": "code",
   "outputs": [],
   "execution_count": null,
   "source": "",
   "id": "e08c54d285d9a6ca"
  }
 ],
 "metadata": {
  "kernelspec": {
   "display_name": "Python 3 (ipykernel)",
   "language": "python",
   "name": "python3"
  },
  "language_info": {
   "codemirror_mode": {
    "name": "ipython",
    "version": 3
   },
   "file_extension": ".py",
   "mimetype": "text/x-python",
   "name": "python",
   "nbconvert_exporter": "python",
   "pygments_lexer": "ipython3",
   "version": "3.9.9"
  }
 },
 "nbformat": 4,
 "nbformat_minor": 5
}
